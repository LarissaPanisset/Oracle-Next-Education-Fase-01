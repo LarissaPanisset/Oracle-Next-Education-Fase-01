{
 "cells": [
  {
   "cell_type": "markdown",
   "id": "85fe5b6e",
   "metadata": {},
   "source": [
    "**Resolução dos exercícios**"
   ]
  },
  {
   "cell_type": "markdown",
   "id": "7f65b1e5",
   "metadata": {},
   "source": [
    "1. Imagine que você trabalha com desenvolvimento front-end trabalhando em um projeto de website. O seu desafio é estilizar o cabeçalho da página de acordo com as especificações fornecidas. Utilize o arquivo `style.css` para aplicar as propriedades CSS no cabeçalho.\n",
    "\n",
    "- Na classe `.cabecalho__menu__link`, insirir as propriedades em `style.css`:"
   ]
  },
  {
   "cell_type": "code",
   "execution_count": null,
   "id": "d1269092",
   "metadata": {
    "vscode": {
     "languageId": "css"
    }
   },
   "outputs": [],
   "source": [
    "  .cabecalho__menu__link {\n",
    "      font-family: 'Montserrat', sans-serif;\n",
    "      font-size: 24px;\n",
    "      font-weight: 600;\n",
    "      color: #22D4FD;\n",
    "  }"
   ]
  },
  {
   "cell_type": "markdown",
   "id": "9bf45f6f",
   "metadata": {},
   "source": [
    "Ajustar o padding da classe .cabecalho para espaçar o conteúdo:"
   ]
  },
  {
   "cell_type": "code",
   "execution_count": null,
   "id": "bd0924fd",
   "metadata": {
    "vscode": {
     "languageId": "css"
    }
   },
   "outputs": [],
   "source": [
    "  .cabecalho {\n",
    "      padding: 2% 0% 0% 15%;\n",
    "  }"
   ]
  },
  {
   "cell_type": "markdown",
   "id": "eee0170f",
   "metadata": {},
   "source": [
    "Implementar o FlexBox na classe .cabecalho__menu e definir um gap:"
   ]
  },
  {
   "cell_type": "code",
   "execution_count": null,
   "id": "eb44de54",
   "metadata": {
    "vscode": {
     "languageId": "css"
    }
   },
   "outputs": [],
   "source": [
    "  .cabecalho__menu {\n",
    "      display: flex;\n",
    "      gap: 80px;\n",
    "  }"
   ]
  },
  {
   "cell_type": "markdown",
   "id": "0947e688",
   "metadata": {},
   "source": [
    "2. Agora, como quem trabalha com desenvolvimento, seu próximo desafio é ajustar o espaçamento do conteúdo da página para que se alinhe corretamente com o cabeçalho.\n",
    "\n",
    "- Modificar o `padding` da classe `.apresentacao` para alinhar o conteúdo com o cabeçalho:"
   ]
  },
  {
   "cell_type": "code",
   "execution_count": null,
   "id": "036fdea2",
   "metadata": {
    "vscode": {
     "languageId": "css"
    }
   },
   "outputs": [],
   "source": [
    "  .apresentacao {\n",
    "      padding: 5% 15%;\n",
    "  }"
   ]
  },
  {
   "cell_type": "markdown",
   "id": "960670e2",
   "metadata": {},
   "source": [
    "3. Você está trabalhando em um projeto de site pessoal e precisa adicionar uma página \"Sobre mim\". Para isso, você deve criar um novo arquivo HTML, chamado `about.html`, e configurar um link no menu de navegação do seu site principal (`index.html`) para redirecionar para esta nova página. Além disso, ajuste o cabeçalho da página `about.html` para que o título da aba seja “Sobre mim” e adicione um `<h1>` com o texto \"Sobre mim\" no corpo da nova página. Certifique-se de que a navegação entre a página principal e a página \"Sobre mim\" esteja funcionando corretamente.\n",
    "\n",
    "- Criar um novo arquivo HTML chamado `about.html`.\n",
    "- Criar toda a estrutura básica do HTML.\n",
    "- Alterar a linguagem do documento para português brasileiro (`lang=\"pt-br\"`).\n",
    "- No `<head>`, definir o título como \"Sobre mim\" na tag `<title>`.\n",
    "- Adicionar um `<h1>` no `<body>` com o texto \"Sobre mim\".\n",
    "- No arquivo `index.html`, encontrar a seção do menu de navegação.\n",
    "- Adicionar um link para `about.html` usando a tag `<a>` com o atributo `href`."
   ]
  },
  {
   "cell_type": "code",
   "execution_count": null,
   "id": "2f9438ed",
   "metadata": {
    "vscode": {
     "languageId": "html"
    }
   },
   "outputs": [],
   "source": [
    "<!DOCTYPEhtml>\n",
    "<html lang=\"pt-br\">\n",
    "<head>\n",
    "    <meta charset=\"UTF-8\">\n",
    "    <meta http-equiv=\"X-UA-Compatible\" content=\"IE=edge\">\n",
    "    <meta name=\"viewport\" content=\"width=device-width, initial-scale=1.0\">\n",
    "    <title>Sobre mim</title>\n",
    "</head>\n",
    "<body>\n",
    "    <h1>Sobre mim</h1>\n",
    "</body>\n",
    "</html>\n"
   ]
  },
  {
   "cell_type": "code",
   "execution_count": null,
   "id": "25c64a98",
   "metadata": {
    "vscode": {
     "languageId": "html"
    }
   },
   "outputs": [],
   "source": [
    "//... código omitido\n",
    "<body>\n",
    "    <header class=\"cabecalho\">\n",
    "        <nav class=\"cabecalho__menu\">\n",
    "            <a class=\"cabecalho__menu__link\" href=\"index.html\">Home</a>\n",
    "            <a class=\"cabecalho__menu__link\" href=\"about.html\">Sobre mim</a>\n",
    "        </nav>\n",
    "    </header>\n",
    "//... código omitido\n",
    "</body>\n",
    "</html>"
   ]
  },
  {
   "cell_type": "markdown",
   "id": "608100a9",
   "metadata": {},
   "source": [
    "4. Você percebeu que, após mover o arquivo `styles.css` para uma nova pasta chamada \"styles\", a estilização do seu site foi perdida. Para corrigir isso, você deve atualizar o caminho do arquivo CSS no seu arquivo `index.html`. Além disso, no arquivo `styles.css`, você deve remover o sublinhado dos links no cabeçalho do site. Após estas correções, verifique se a estilização foi aplicada corretamente e se os links do cabeçalho não estão mais sublinhados.\n",
    "\n",
    "- No arquivo `index.html`, atualizar o link para o `styles.css` para refletir o novo caminho (`\"./styles/styles.css\"`).\n",
    "- No arquivo `styles.css` e encontrar o seletor `.cabecalho__menu__link`.\n",
    "- Adicionar a propriedade `text-decoration: none;` para remover o sublinhado dos links."
   ]
  },
  {
   "cell_type": "code",
   "execution_count": null,
   "id": "71bb90de",
   "metadata": {
    "vscode": {
     "languageId": "html"
    }
   },
   "outputs": [],
   "source": [
    "<!DOCTYPEhtml>\n",
    "<html lang=\"pt-br\">\n",
    "<head>\n",
    "    //... código omitido\n",
    "    <link rel=\"stylesheet\" href=\"./styles/styles.css\">\n",
    "    //... código omitido\n",
    "</head>\n",
    "//... resto do código"
   ]
  },
  {
   "cell_type": "code",
   "execution_count": null,
   "id": "2bb7df5b",
   "metadata": {
    "vscode": {
     "languageId": "css"
    }
   },
   "outputs": [],
   "source": [
    "//... código omitido\n",
    "\n",
    ".cabecalho__menu__link {\n",
    "    //... outras propriedades\n",
    "    text-decoration: none;\n",
    "}\n",
    "\n",
    "//... código "
   ]
  },
  {
   "cell_type": "markdown",
   "id": "83f7b394",
   "metadata": {},
   "source": [
    "5. Nesta atividade, você irá estruturar a página \"Sobre mim\" do seu projeto, reutilizando o cabeçalho e o rodapé da página inicial (`index.html`). Primeiro, copie o `<header>` e o `<footer>` do `index.html` e cole-os no arquivo `about.html`. Em seguida, adicione uma seção `<main>` vazia entre o `<header>` e o `<footer>`. Por fim, verifique se a estrutura copiada está funcionando corretamente no navegador, com os links de navegação e o texto do rodapé aparecendo.\n",
    "\n",
    "- No arquivo `index.html` e copiar o código completo do `<header>` e do `<footer>`.\n",
    "- No arquivo `about.html` e colar o código do `<header>` e do `<footer>` copiado.\n",
    "- No `about.html`, insira uma seção `<main>` vazia entre o `<header>` e o `<footer>`."
   ]
  },
  {
   "cell_type": "code",
   "execution_count": null,
   "id": "cb391e5b",
   "metadata": {
    "vscode": {
     "languageId": "html"
    }
   },
   "outputs": [],
   "source": [
    "<!DOCTYPEhtml>\n",
    "<html lang=\"pt-br\">\n",
    "<body>\n",
    "    <header class=\"cabecalho\">\n",
    "        //... código do cabeçalho copiado\n",
    "    </header>\n",
    "    <main></main>\n",
    "    <footer class=\"rodape\">\n",
    "        //... código do rodapé copiado\n",
    "    </footer>\n",
    "</body>\n",
    "</html>"
   ]
  },
  {
   "cell_type": "markdown",
   "id": "6b5a2194",
   "metadata": {},
   "source": [
    "6. O objetivo desta atividade é importar o arquivo de estilos `styles.css` na página \"Sobre mim\" e corrigir o caminho do arquivo para refletir a estrutura de pastas atual. No arquivo `about.html`, adicione a tag `<link>` para importar o `styles.css`. Lembre-se de que o arquivo CSS foi movido para uma pasta chamada \"styles\", então o caminho do href na tag `<link>` precisa ser atualizado para \"./styles/styles.css\". Após essa correção, salve o arquivo e recarregue a página no navegador para verificar se os estilos foram aplicados corretamente.\n",
    "\n",
    "- No arquivo `about.html`, adicionar a tag `<link>` no `<head>` para importar o arquivo `styles.css`.\n",
    "- Atualizar o atributo `href` da tag `<link>` para o caminho correto, considerando a pasta \"styles\" onde o arquivo CSS foi movido. O caminho correto será \"./styles/styles.css\"."
   ]
  },
  {
   "cell_type": "code",
   "execution_count": null,
   "id": "ffef7e4c",
   "metadata": {
    "vscode": {
     "languageId": "html"
    }
   },
   "outputs": [],
   "source": [
    "<!DOCTYPEhtml>\n",
    "<html lang=\"pt-br\">\n",
    "<head>\n",
    "    //... outros elementos do head\n",
    "    <title>Sobre mim</title>\n",
    "    <link rel=\"stylesheet\" href=\"./styles/styles.css\">\n",
    "</head>\n",
    "<body>\n",
    "    //... restante do código do body\n",
    "</body>\n",
    "</html>"
   ]
  },
  {
   "cell_type": "markdown",
   "id": "c8e34617",
   "metadata": {},
   "source": [
    "7. Nesta atividade, você adicionará o conteúdo principal na página \"Sobre mim\" do seu projeto. Primeiro, no arquivo `about.html`, localize o `<main>` vazio e crie uma `<section>` para armazenar o conteúdo da página. Dentro desta `<section>`, adicione um `<h1>` com o texto \"Sobre mim\" e dois parágrafos (`<p>`), utilizando o atalho `p*2` seguido de \"Enter\" para criar ambos. Em seguida, volte ao Figma para copiar o texto de \"Lorem ipsum\" e cole-o nos parágrafos correspondentes. Por fim, adicione uma imagem ao lado dos parágrafos, copiando o código da imagem da página inicial e colando-o no `about.html`.\n",
    "\n",
    "- No arquivo `about.html` e localizar o elemento `<main>`.\n",
    "- Dentro de `<main>`, criar uma `<section>` e, dentro desta, insirir um `<h1>` com o texto \"Sobre mim\".\n",
    "- Utilizar o atalho `p*2` e \"Enter\" para criar dois parágrafos vazios abaixo do `<h1>`.\n",
    "- Retornar ao Figma, copie o texto de \"Lorem ipsum\" e cole nos parágrafos.\n",
    "- Adicionar uma tag `<img>` fora da `<section>`, mas dentro de `<main>`.\n",
    "- Copiar o código da imagem do arquivo `index.html` e colar na tag `<img>` do `about.html`."
   ]
  },
  {
   "cell_type": "code",
   "execution_count": null,
   "id": "16d1a519",
   "metadata": {
    "vscode": {
     "languageId": "html"
    }
   },
   "outputs": [],
   "source": [
    "<!DOCTYPEhtml>\n",
    "<html lang=\"pt-br\">\n",
    "<body>\n",
    "    //... cabeçalho e rodapé omitidos\n",
    "    <main>\n",
    "        <section>\n",
    "            <h1>Sobre mim</h1>\n",
    "            <p>Lorem ipsum dolor sit amet...</p>\n",
    "            <p>Lorem ipsum dolor sit amet...</p>\n",
    "        </section>\n",
    "        <img src=\".assets/imagem.png\" alt=\"Foto da Joana Santos programando\">\n",
    "    </main>\n",
    "    //... rodapé\n",
    "</body>\n",
    "</html>"
   ]
  },
  {
   "cell_type": "markdown",
   "id": "eb46dc34",
   "metadata": {},
   "source": [
    "8. Após adicionar o conteúdo principal, você deverá aplicar estilos à página \"Sobre mim\". Primeiro, atribua classes apropriadas aos elementos dentro do `<main>`: adicione a classe \"apresentacao\" ao `<main>`, \"apresentacao__conteudo\" à `<section>`, \"apresentacao__conteudo__titulo\" ao `<h1>` e \"apresentacao__conteudo__texto\" aos parágrafos. Utilize a técnica de seleção múltipla (segurando \"Alt\" e clicando) para adicionar a mesma classe a ambos os parágrafos simultaneamente. Após adicionar as classes, salve o arquivo e visualize no navegador para conferir o alinhamento e a estilização dos elementos.\n",
    "\n",
    "- Dentro do `<main>` do arquivo `about.html`, adicionar a classe \"apresentacao\".\n",
    "- Na `<section>` dentro de `<main>`, adicionar a classe \"apresentacao__conteudo\".\n",
    "- Ao `<h1>` dentro da `<section>`, adicionar a classe \"apresentacao__conteudo__titulo\".\n",
    "- Aos dois parágrafos, adicionar a classe \"apresentacao__conteudo__texto\" usando a técnica de seleção múltipla (segurando \"Alt\" e clicando)."
   ]
  },
  {
   "cell_type": "code",
   "execution_count": null,
   "id": "47a532ec",
   "metadata": {
    "vscode": {
     "languageId": "html"
    }
   },
   "outputs": [],
   "source": [
    "<!DOCTYPEhtml>\n",
    "<html lang=\"pt-br\">\n",
    "<body>\n",
    "    //... cabeçalho e rodapé omitidos\n",
    "    <main class=\"apresentacao\">\n",
    "        <section class=\"apresentacao__conteudo\">\n",
    "            <h1 class=\"apresentacao__conteudo__titulo\">Sobre mim</h1>\n",
    "            <p class=\"apresentacao__conteudo__texto\">Lorem ipsum dolor sit amet...</p>\n",
    "            <p class=\"apresentacao__conteudo__texto\">Lorem ipsum dolor sit amet...</p>\n",
    "        </section>\n",
    "        <img src=\".assets/imagem.png\" alt=\"Foto da Joana Santos programando\">\n",
    "    </main>\n",
    "    //... rodapé\n",
    "</body>\n",
    "</html>"
   ]
  },
  {
   "cell_type": "markdown",
   "id": "5a00133f",
   "metadata": {},
   "source": [
    "9. Nesta atividade, você vai definir variáveis globais no CSS para as cores principais do seu projeto. Abra o arquivo `style.css` no VS Code e adicione a pseudoclasse `:root` no início do arquivo, acima de todos os blocos de código. Dentro do `:root`, defina três variáveis: `--cor-primaria` para a cor preta (`#000000`), `--cor-secundaria` para o branco (`#F6F6F6`) e `--cor-terciaria` para o azul ciano (`#22D4FD`). Este processo permite que você altere facilmente as cores principais do projeto alterando apenas essas variáveis.\n",
    "\n",
    "- No arquivo `style.css` no VS Code.\n",
    "- No início do arquivo, adicionar a pseudoclasse `:root`.\n",
    "- Dentro do `:root`, defina três variáveis para as cores principais do projeto. Use a sintaxe `-nome-da-variavel: valor;` para cada cor."
   ]
  },
  {
   "cell_type": "code",
   "execution_count": null,
   "id": "99a7a03c",
   "metadata": {
    "vscode": {
     "languageId": "css"
    }
   },
   "outputs": [],
   "source": [
    "@import url('https://fonts.googleapis.com/css2?family=Krona+One&family=Montserrat&display=swap');\n",
    "\n",
    ":root {\n",
    "    --cor-primaria: #000000;\n",
    "    --cor-secundaria: #F6F6F6;\n",
    "    --cor-terciaria: #22D4FD;\n",
    "}\n",
    "\n",
    "* {\n",
    "    margin: 0;\n",
    "    padding: 0;\n",
    "}\n",
    "//... restante do código"
   ]
  },
  {
   "cell_type": "markdown",
   "id": "8baebcbe",
   "metadata": {},
   "source": [
    "10. Depois de definir as variáveis de cores, o próximo passo é aplicá-las em todo o projeto. Procure no arquivo `style.css` onde as cores originais foram usadas (utilize \"Ctrl + F\" para pesquisar pelas cores hexadecimais). Substitua todas as ocorrências das cores hexadecimais pelas variáveis correspondentes que você definiu. Por exemplo, substitua todas as ocorrências de `#000000` por `var(--cor-primaria)`. Isso garantirá que, se as cores principais precisarem ser alteradas no futuro, você só terá que alterá-las uma vez nas variáveis globais, simplificando a manutenção do código.\n",
    "\n",
    "- No arquivo `style.css` onde as cores originais, como `#000000`, `#F6F6F6` e `#22D4FD`, foram usadas.\n",
    "- Substituir todas as ocorrências dessas cores pelas variáveis correspondentes, usando a sintaxe `var(--nome-da-variavel)`.\n",
    "- Por exemplo, substituir `#000000` por `var(--cor-primaria)` em todas as suas ocorrências no arquivo."
   ]
  },
  {
   "cell_type": "markdown",
   "id": "82efd542",
   "metadata": {},
   "source": [
    "// Exemplo de substituição no arquivo\n",
    ".cabecalho {\n",
    "    background-color: var(--cor-primaria);\n",
    "    //... outros estilos\n",
    "}\n",
    "\n",
    ".rodape {\n",
    "    color: var(--cor-secundaria);\n",
    "    //... outros estilos\n",
    "}\n",
    "\n",
    ".cabecalho__menu__link:hover {\n",
    "    color: var(--cor-terciaria);\n",
    "    //... outros estilos\n",
    "}\n",
    "//... restante do código"
   ]
  }
 ],
 "metadata": {
  "language_info": {
   "name": "python"
  }
 },
 "nbformat": 4,
 "nbformat_minor": 5
}
