{
 "cells": [
  {
   "cell_type": "markdown",
   "id": "bfa89a07",
   "metadata": {},
   "source": [
    "**Resolução dos exercícios**"
   ]
  },
  {
   "cell_type": "markdown",
   "id": "00cf5774",
   "metadata": {},
   "source": [
    "1. Imagine que você está desenvolvendo uma página web para compartilhar em suas redes sociais. Você precisa adicionar um subtítulo \"Acesse minhas redes:\" acima dos links para Instagram e Github. Sua tarefa é editar o arquivo `index.html` para incluir esse subtítulo. Lembre-se de usar a tag `<h2>` para o subtítulo e colocá-lo dentro da `<div>` que já contém os links.\n",
    "\n",
    "- Abrir o arquivo `index.html`.\n",
    "- Localizar a `<div class=\"apresentacao__links\">`.\n",
    "- Acima da linha do primeiro link, adicionar a tag `<h2>` com o texto \"Acesse minhas redes:\"."
   ]
  },
  {
   "cell_type": "code",
   "execution_count": null,
   "id": "3c004cb0",
   "metadata": {
    "vscode": {
     "languageId": "html"
    }
   },
   "outputs": [],
   "source": [
    "<div class=\"apresentacao__links\">\n",
    "    <h2>Acesse minhas redes:</h2>\n",
    "    <a class=\"apresentacao__links__link\" href=\"https://instagram.cm/     rafaballerini\">Instagram</a>\n",
    "    <a class=\"apresentacao__links__link\" href=\"https://github.com/gi     lhermeonrails\">Github</a>\n",
    "</div>"
   ]
  },
  {
   "cell_type": "markdown",
   "id": "bf6da8db",
   "metadata": {},
   "source": [
    "2. Agora que o subtítulo foi adicionado, você percebe que ele está alinhado à esquerda dos botões, ao invés de acima deles. Isso aconteceu porque os elementos estão dispostos horizontalmente. Sua missão é alterar a disposição dos elementos (subtítulo e botões) para uma disposição vertical. Edite o arquivo `style.css`, modificando a propriedade `flex-direction` para `column` dentro da classe `.apresentacao__links`. Isso mudará a direção do Flexbox, alinhando os elementos verticalmente.\n",
    "\n",
    "- No arquivo `style.css`.\n",
    "- Encontrar a classe `.apresentacao__links`.\n",
    "- Adicione a propriedade `flex-direction: column;` para mudar a disposição dos elementos para vertical."
   ]
  },
  {
   "cell_type": "code",
   "execution_count": null,
   "id": "f4cb3810",
   "metadata": {
    "vscode": {
     "languageId": "css"
    }
   },
   "outputs": [],
   "source": [
    ".apresentacao__links {\n",
    "    display: flex;\n",
    "    flex-direction: column;\n",
    "    justify-content: space-between;\n",
    "}"
   ]
  },
  {
   "cell_type": "markdown",
   "id": "a57d9ead",
   "metadata": {},
   "source": [
    "3. Após modificar a direção do Flexbox, você observa que os elementos (texto e botões) estão muito próximos uns dos outros e alinhados à esquerda. Para melhorar a estética da página, você precisa centralizar esses elementos verticalmente e adicionar um espaçamento entre eles. No arquivo `style.css`, dentro da classe `.apresentacao__links`, adicione a propriedade `align-items: center` para centralizar os elementos. Em seguida, insira a propriedade `gap` com o valor de `32px` para adicionar o espaçamento entre cada elemento.\n",
    "\n",
    "- Continuando no arquivo `style.css`, dentro da classe `.apresentacao__links`:\n",
    "- Adicionar `align-items: center;` para centralizar os elementos verticalmente.\n",
    "- Insirir `gap: 32px;` para criar um espaçamento de 32px entre cada elemento."
   ]
  },
  {
   "cell_type": "code",
   "execution_count": null,
   "id": "18a94f04",
   "metadata": {
    "vscode": {
     "languageId": "css"
    }
   },
   "outputs": [],
   "source": [
    ".apresentacao__links {\n",
    "    display: flex;\n",
    "    flex-direction: column;\n",
    "    justify-content: space-between;\n",
    "    align-items: center;\n",
    "    gap: 32px;\n",
    "}"
   ]
  },
  {
   "cell_type": "markdown",
   "id": "099a9894",
   "metadata": {},
   "source": [
    "4. Você está desenvolvendo uma página web e decidiu que o subtítulo \"Acesse minhas redes:\" precisa de uma estilização específica. Para isso, você vai criar uma classe CSS para este subtítulo. No arquivo `index.html`, encontre a tag `<h2>` que contém o subtítulo e adicione uma classe chamada `apresentacao__links__subtitulo`. Sua tarefa é inserir essa classe na tag `<h2>` de forma correta.\n",
    "\n",
    "- No arquivo `index.html`.\n",
    "- Localizar a tag `<h2>` que contém o texto \"Acesse minhas redes:\".\n",
    "- Adicionar a classe `apresentacao__links__subtitulo` à tag `<h2>`."
   ]
  },
  {
   "cell_type": "code",
   "execution_count": null,
   "id": "bf8c6941",
   "metadata": {
    "vscode": {
     "languageId": "html"
    }
   },
   "outputs": [],
   "source": [
    "<h2 class=\"apresentacao__links__subtitulo\">Acesse minhas redes:</h2>"
   ]
  },
  {
   "cell_type": "markdown",
   "id": "2b2c2472",
   "metadata": {},
   "source": [
    "5. Agora que você criou uma classe para o subtítulo, é hora de estilizá-lo. No arquivo `style.css`, adicione a classe `.apresentacao__links__subtitulo` e configure as propriedades de estilo. Utilize a fonte 'Krona One', com um peso de fonte (`font-weight`) de 400 e um tamanho de fonte (`font-size`) de 24px. Ajuste a fonte para ser 'sans-serif' sem aspas. Sua tarefa é escrever o código CSS para aplicar essas configurações ao subtítulo.\n",
    "\n",
    "- No arquivo `style.css`.\n",
    "- Adicionar a classe `.apresentacao__links__subtitulo` no início do arquivo."
   ]
  },
  {
   "cell_type": "code",
   "execution_count": null,
   "id": "dd9192b5",
   "metadata": {
    "vscode": {
     "languageId": "css"
    }
   },
   "outputs": [],
   "source": [
    ".apresentacao__links__subtitulo {\n",
    "    font-family: 'Krona One', sans-serif;\n",
    "    font-weight: 400;\n",
    "    font-size: 24px;\n",
    "}"
   ]
  },
  {
   "cell_type": "markdown",
   "id": "b845c3cc",
   "metadata": {},
   "source": [
    "6. Os botões da sua página precisam de um novo visual. No arquivo `style.css`, encontre a classe `.apresentacao__links__link` e faça as seguintes alterações: remova o fundo ciano, mude a cor do texto para branco (`#F6F6F6`), adicione uma borda sólida de 2px na cor ciano (`#22D4FD`), altere a largura para 378px, e ajuste o `border-radius` para 8px. Sua tarefa é alterar o código CSS para refletir estas mudanças, criando botões com bordas ciano, texto branco, e cantos menos arredondados.\n",
    "\n",
    "- No arquivo `style.css`, encontrar a classe `.apresentacao__links__link`."
   ]
  },
  {
   "cell_type": "code",
   "execution_count": null,
   "id": "e194c9e7",
   "metadata": {
    "vscode": {
     "languageId": "css"
    }
   },
   "outputs": [],
   "source": [
    ".apresentacao__links__link {\n",
    "    /* background-color: #22D4FD; */ \n",
    "    border: 2px solid #22D4FD;\n",
    "    color: #F6F6F6;\n",
    "    width: 378px;\n",
    "    border-radius: 8px;\n",
    "}"
   ]
  }
 ],
 "metadata": {
  "language_info": {
   "name": "python"
  }
 },
 "nbformat": 4,
 "nbformat_minor": 5
}
