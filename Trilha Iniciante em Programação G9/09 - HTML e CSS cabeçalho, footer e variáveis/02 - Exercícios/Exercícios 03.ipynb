{
 "cells": [
  {
   "cell_type": "markdown",
   "id": "d275f19f",
   "metadata": {},
   "source": [
    "**Resolução dos exercícios**"
   ]
  },
  {
   "cell_type": "markdown",
   "id": "2a2dfb64",
   "metadata": {},
   "source": [
    "1. Imagine que você está desenvolvendo um site e chegou a hora de personalizar o rodapé. O desafio é criar um rodapé estilizado com as seguintes características: deve ter um fundo azul claro (#22D4FD), texto em preto (#000000), e o texto deve ser centralizado e usar a fonte 'Montserrat', tamanho 24px e peso 400. Além disso, o rodapé deve ter um padding de 24px. Use o HTML e CSS fornecidos como base e aplique as modificações necessárias.\n",
    "\n",
    "- No arquivo `style.css` e localize a classe `.rodape`.\n",
    "- Atualizar a propriedade `background-color` para `#22D4FD`.\n",
    "- Definir a propriedade `color` para `#000000`.\n",
    "- Centralizar o texto adicionando `text-align: center`.\n",
    "- Aplicar a fonte 'Montserrat', com tamanho `24px` e peso `400` usando `font-family: 'Montserrat', sans-serif;` e `font-size: 24px;` e `font-weight: 400`.\n",
    "- Adicionar `padding: 24px` para criar um espaçamento interno."
   ]
  },
  {
   "cell_type": "code",
   "execution_count": null,
   "id": "8aa6ce5b",
   "metadata": {
    "vscode": {
     "languageId": "css"
    }
   },
   "outputs": [],
   "source": [
    ".rodape {\n",
    "    padding: 24px;\n",
    "    color: #000000;\n",
    "    background-color: #22D4FD;\n",
    "    text-align: center;\n",
    "    font-family: 'Montserrat', sans-serif;\n",
    "    font-size: 24px;\n",
    "    font-weight: 400;\n",
    "}"
   ]
  },
  {
   "cell_type": "markdown",
   "id": "52c8ec09",
   "metadata": {},
   "source": [
    "2. Você ficou responsável por ajustar o layout de uma seção de apresentação em um site. Atualmente, os elementos estão muito próximos das bordas, o que prejudica a estética do site. Sua tarefa é substituir a propriedade `margin` por `padding` na classe `.apresentacao` do CSS, testando valores de porcentagem para encontrar o espaçamento ideal. Comece com 5% e ajuste conforme necessário para obter um visual equilibrado.\n",
    "\n",
    "- No arquivo `style.css` e localize a classe `.apresentacao`.\n",
    "- Substituir a propriedade `margin` por `padding`.\n",
    "- Definir `padding: 5% 15%`.\n",
    "- Ajustar o valor do padding para encontrar o equilíbrio visual ideal, por exemplo, `8%`."
   ]
  },
  {
   "cell_type": "code",
   "execution_count": null,
   "id": "76d51ab1",
   "metadata": {
    "vscode": {
     "languageId": "css"
    }
   },
   "outputs": [],
   "source": [
    ".apresentacao {\n",
    "    padding: 8% 15%;\n",
    "    display: flex;\n",
    "    align-items: center;\n",
    "    justify-content: space-between;\n",
    "}"
   ]
  },
  {
   "cell_type": "markdown",
   "id": "c41c3c9b",
   "metadata": {},
   "source": [
    "3. Seu site está enfrentando um problema de layout: a propriedade `height: 100vh` no `body` está impedindo que o conteúdo se ajuste corretamente na tela, especialmente com a adição de novos elementos como um rodapé. Sua missão é comentar a linha que define `height: 100vh` no CSS e verificar o impacto dessa mudança no layout do site. Observe como o conteúdo e o rodapé se adaptam à nova configuração.\n",
    "\n",
    "- No arquivo `style.css` e localize a seção do `body`.\n",
    "- Comente a linha que contém `height: 100vh` usando `/* height: 100vh; */`.\n",
    "- Salvar o arquivo e observar como o layout do site se adapta, na área do rodapé."
   ]
  },
  {
   "cell_type": "code",
   "execution_count": null,
   "id": "46ff6552",
   "metadata": {
    "vscode": {
     "languageId": "css"
    }
   },
   "outputs": [],
   "source": [
    "body {\n",
    "    /* height: 100vh; */\n",
    "    box-sizing: border-box;\n",
    "    background-color: #000000;\n",
    "    color: #F6F6F6;\n",
    "}"
   ]
  },
  {
   "cell_type": "markdown",
   "id": "4b5693ee",
   "metadata": {},
   "source": [
    "4. Você está criando um site e chegou a hora de estilizar o cabeçalho para que ele fique visível e atraente, similar ao projeto no Figma. Você precisa adicionar estilo ao cabeçalho no arquivo `style.css`, de forma que os links \"Home\" e \"Sobre mim\" fiquem alinhados horizontalmente e com uma aparência moderna. Considere usar propriedades como `font-size`, `color`, `margin`, `padding`, e `display`. Tente também adicionar um `hover` para alterar a cor dos links quando o mouse passar por cima.\n",
    "\n",
    "- Adicionar as seguintes propriedades CSS à classe\n",
    "\n",
    "`cabecalho__menu__link` para estilizar os links:"
   ]
  },
  {
   "cell_type": "code",
   "execution_count": null,
   "id": "0f7d5f02",
   "metadata": {
    "vscode": {
     "languageId": "css"
    }
   },
   "outputs": [],
   "source": [
    "  .cabecalho__menu__link {\n",
    "      font-size: 18px;\n",
    "      color: #333;\n",
    "      margin: 0 10px;\n",
    "      padding: 5px 10px;\n",
    "      text-decoration: none;\n",
    "  }\n",
    "\n",
    "  .cabecalho__menu__link:hover {\n",
    "      color: #007bff;\n",
    "  }\n"
   ]
  },
  {
   "cell_type": "markdown",
   "id": "ecb11c21",
   "metadata": {},
   "source": [
    "Ajustar as propriedades display, justify-content e align-items na classe cabecalho__menu para alinhar os links horizontalmente:"
   ]
  },
  {
   "cell_type": "code",
   "execution_count": null,
   "id": "cf8c09ff",
   "metadata": {
    "vscode": {
     "languageId": "css"
    }
   },
   "outputs": [],
   "source": [
    "  .cabecalho__menu {\n",
    "      display: flex;\n",
    "      justify-content: center;\n",
    "      align-items: center;\n",
    "  }"
   ]
  },
  {
   "cell_type": "markdown",
   "id": "0f7eca80",
   "metadata": {},
   "source": [
    "5. Com base no estilo atual do cabeçalho, percebe-se que os links podem estar muito próximos um do outro ou da borda do cabeçalho, o que pode afetar a legibilidade e a estética do site. Sua tarefa é ajustar o espaçamento interno (`padding`) dos links \"Home\" e \"Sobre mim\" para garantir que eles tenham um espaçamento adequado em torno do texto. Isso tornará o cabeçalho mais atraente e fácil de usar.\n",
    "\n",
    "- Ajustar a propriedade `padding` na classe `cabecalho__menu__link`."
   ]
  },
  {
   "cell_type": "code",
   "execution_count": null,
   "id": "372aa42a",
   "metadata": {
    "vscode": {
     "languageId": "css"
    }
   },
   "outputs": [],
   "source": [
    "  .cabecalho__menu__link {\n",
    "      padding: 10px 15px;\n",
    "  }\n"
   ]
  }
 ],
 "metadata": {
  "language_info": {
   "name": "python"
  }
 },
 "nbformat": 4,
 "nbformat_minor": 5
}
