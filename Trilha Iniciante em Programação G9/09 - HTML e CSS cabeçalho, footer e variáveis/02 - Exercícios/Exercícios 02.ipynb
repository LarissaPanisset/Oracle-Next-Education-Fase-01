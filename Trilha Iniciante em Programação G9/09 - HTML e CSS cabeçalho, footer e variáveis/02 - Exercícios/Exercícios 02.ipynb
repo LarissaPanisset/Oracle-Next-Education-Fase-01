{
 "cells": [
  {
   "cell_type": "markdown",
   "id": "339b0ef9",
   "metadata": {},
   "source": [
    "**Resolução dos exercícios**"
   ]
  },
  {
   "cell_type": "markdown",
   "id": "08be7750",
   "metadata": {
    "vscode": {
     "languageId": "javascript"
    }
   },
   "source": [
    "1. Imagine que você está trabalhando em um projeto pessoal onde deseja incluir links para suas redes sociais com ícones correspondentes. Você já tem um link para o GitHub com um ícone, mas precisa adicionar outros dois: LinkedIn e Twitch. Utilize o seguinte trecho de código HTML como ponto de partida:"
   ]
  },
  {
   "cell_type": "code",
   "execution_count": null,
   "id": "e3f4f9a2",
   "metadata": {
    "vscode": {
     "languageId": "html"
    }
   },
   "outputs": [],
   "source": [
    "<main class=\"apresentacao\">\n",
    "    <section class=\"apresentacao__conteudo\">\n",
    "        <div class=\"apresentacao__links\">\n",
    "            <h2 class=\"apresentacao__links__subtitulo\">Acesse minhas redes:</h2>\n",
    "            <a class=\"apresentacao__links__link\" href=\"https://github.com/seunome\">\n",
    "                <img src=\"./assets/github.png\">\n",
    "                Github\n",
    "            </a>\n",
    "            <!-- Adicione os links do LinkedIn e Twitch aqui -->\n",
    "        </div>\n",
    "    </section>\n",
    "    <img src=\"./assets/imagem.png\" alt=\"Foto da Joana Santos programando\">\n",
    "</main>\n",
    "<footer></footer>\n",
    "</body>\n",
    "</html>"
   ]
  },
  {
   "cell_type": "markdown",
   "id": "995273c3",
   "metadata": {},
   "source": [
    "- Copiar a estrutura da tag `<a>` do GitHub.\n",
    "- Colar duas vezes para criar espaços para LinkedIn e Twitch.\n",
    "- Alterar o atributo `href` para refletir os endereços corretos de suas contas no LinkedIn e Twitch.\n",
    "- Modificar o atributo `src` da tag `<img>` para apontar para os ícones corretos do LinkedIn e Twitch, armazenados na pasta `assets`.\n",
    "- Atualizar o texto dentro da tag `<a>` para corresponder a cada rede social."
   ]
  },
  {
   "cell_type": "code",
   "execution_count": null,
   "id": "e0387b43",
   "metadata": {
    "vscode": {
     "languageId": "html"
    }
   },
   "outputs": [],
   "source": [
    "<main class=\"apresentacao\">\n",
    "    <section class=\"apresentacao__conteudo\">\n",
    "        <div class=\"apresentacao__links\">\n",
    "            <h2 class=\"apresentacao__links__subtitulo\">Acesse minhas redes:</h2>\n",
    "            <a class=\"apresentacao__links__link\" href=\"https://github.com/seunome\">\n",
    "                <img src=\"./assets/github.png\">\n",
    "                Github\n",
    "            </a>\n",
    "            <a class=\"apresentacao__links__link\" href=\"https://linkedin.com/in/seunome\">\n",
    "                <img src=\"./assets/linkedin.png\">\n",
    "                LinkedIn\n",
    "            </a>\n",
    "            <a class=\"apresentacao__links__link\" href=\"https://twitch.tv/seunome\">\n",
    "                <img src=\"./assets/twitch.png\">\n",
    "                Twitch\n",
    "            </a>\n",
    "        </div>\n",
    "    </section>\n",
    "    <img src=\"./assets/imagem.png\" alt=\"Foto da Joana Santos programando\">\n",
    "</main>\n",
    "<footer></footer>\n",
    "</body>\n",
    "</html>"
   ]
  },
  {
   "cell_type": "markdown",
   "id": "af92e49b",
   "metadata": {},
   "source": [
    "2. Imagine que você está trabalhando em um projeto de site onde precisa alinhar ícones de redes sociais com seus respectivos textos dentro de botões. O desafio é utilizar Flexbox para centralizar tanto o ícone quanto o texto dentro dos botões. Comece acessando o arquivo `style.css` e encontre a classe `.apresentacao__links__link`. Sua tarefa é adicionar as propriedades `display: flex`, `justify-content: center` e `gap: 16px` nesta classe, respeitando a ordem e posição corretas entre as outras propriedades existentes.\n",
    "\n",
    "- No arquivo `style.css`.\n",
    "- Localizar a classe `.apresentacao__links__link`.\n",
    "- Adicionar a propriedade `display: flex` entre `background-color` e `border`.\n",
    "- Adicionar `justify-content: center` entre `display: flex` e `border`."
   ]
  },
  {
   "cell_type": "code",
   "execution_count": null,
   "id": "4af89053",
   "metadata": {
    "vscode": {
     "languageId": "css"
    }
   },
   "outputs": [],
   "source": [
    ".apresentacao__links__link {\n",
    "    /* background-color: #22D4FD; */\n",
    "    display: flex;\n",
    "    justify-content: center;\n",
    "    border: 2px solid #22D4FD;\n",
    "    ... /* outras propriedades */\n",
    "}"
   ]
  },
  {
   "cell_type": "markdown",
   "id": "36ed7fd4",
   "metadata": {},
   "source": [
    "3. Neste desafio, você precisa ajustar o espaçamento entre os ícones e os textos dentro dos botões de redes sociais no mesmo projeto do site. Primeiro, consulte o Figma do projeto para identificar o valor exato do espaçamento em pixels entre o ícone e o texto. Depois, volte ao arquivo `style.css` e adicione a propriedade `gap` com o valor encontrado no Figma à classe `.apresentacao__links__link`. Certifique-se de que o `gap` esteja posicionado corretamente dentro da declaração da classe.\n",
    "\n",
    "- Consultar o Figma do projeto para verificar o valor de espaçamento (em px) entre o ícone e o texto.\n",
    "- No arquivo `style.css`.\n",
    "- Localizar a mesma classe `.apresentacao__links__link`.\n",
    "- Adicionar a propriedade `gap` com o valor identificado no Figma, posicionando-a após `justify-content`."
   ]
  },
  {
   "cell_type": "code",
   "execution_count": null,
   "id": "7172fbcc",
   "metadata": {
    "vscode": {
     "languageId": "css"
    }
   },
   "outputs": [],
   "source": [
    ".apresentacao__links__link {\n",
    "    /* background-color: #22D4FD; */\n",
    "    display: flex;\n",
    "    justify-content: center;\n",
    "    gap: 16px; /* valor do espaçamento identificado no Figma */\n",
    "    ... /* outras propriedades */\n",
    "}"
   ]
  },
  {
   "cell_type": "markdown",
   "id": "f73e4e39",
   "metadata": {},
   "source": [
    "4. Você está desenvolvendo uma página de portfólio e quer criar um efeito visual atraente. O objetivo é fazer com que, ao passar o mouse sobre os botões, eles se destaquem com uma borda azul. Para isso, utilize a classe `.apresentacao__links__link` já existente no seu código CSS. Seu desafio é adicionar o efeito Hover a essa classe, fazendo com que a borda do botão mude para a cor azul (#0000FF) quando o cursor passar sobre ele.\n",
    "\n",
    "- Encontrar a classe `.apresentacao__links__link` no arquivo CSS.\n",
    "- Abaixo desta classe, crie uma nova regra para o estado Hover: `.apresentacao__links__link:hover`.\n",
    "- Dentro das chaves desta nova regra, adicione a propriedade `border` e defina-a para `2px solid #0000FF`. Isso adicionará uma borda azul ao redor do botão quando o mouse estiver sobre ele."
   ]
  },
  {
   "cell_type": "code",
   "execution_count": null,
   "id": "24fce1f8",
   "metadata": {
    "vscode": {
     "languageId": "css"
    }
   },
   "outputs": [],
   "source": [
    "  .apresentacao__links__link:hover {\n",
    "      border: 2px solid #0000FF;\n",
    "  }"
   ]
  },
  {
   "cell_type": "markdown",
   "id": "70fe67c4",
   "metadata": {},
   "source": [
    "5. Na sua página de portfólio, você observou que, ao passar o mouse sobre um botão, o cursor se transforma em uma mão com o indicador levantado. Além disso, você deseja que o fundo do botão mude para um tom de preto levemente mais claro (#272727) ao passar o mouse. Seu desafio é editar a classe `.apresentacao__links__link:hover` no seu arquivo CSS para alterar o cursor para o estilo 'pointer' e mudar a cor de fundo do botão ao passar o mouse sobre ele.\n",
    "\n",
    "- Na classe `.apresentacao__links__link:hover` no arquivo CSS.\n",
    "- AdicionAR a propriedade `cursor: pointer;` para mudar o estilo do cursor para uma mão com o indicador levantado.\n",
    "- Adicione a propriedade `background-color: #272727;` para alterar a cor de fundo do botão para um tom de preto mais claro ao passar o mouse sobre ele."
   ]
  },
  {
   "cell_type": "code",
   "execution_count": null,
   "id": "79bdd631",
   "metadata": {
    "vscode": {
     "languageId": "css"
    }
   },
   "outputs": [],
   "source": [
    "  .apresentacao__links__link:hover {\n",
    "      cursor: pointer;\n",
    "      background-color: #272727;\n",
    "  }"
   ]
  }
 ],
 "metadata": {
  "kernelspec": {
   "display_name": "Python 3",
   "language": "python",
   "name": "python3"
  },
  "language_info": {
   "name": "python",
   "version": "3.13.5"
  }
 },
 "nbformat": 4,
 "nbformat_minor": 5
}
