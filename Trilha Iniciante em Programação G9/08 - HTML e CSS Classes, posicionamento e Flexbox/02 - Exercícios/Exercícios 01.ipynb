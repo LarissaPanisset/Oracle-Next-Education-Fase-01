{
 "cells": [
  {
   "cell_type": "markdown",
   "id": "bfa89a07",
   "metadata": {},
   "source": [
    "**Resolução dos exercícios HTML e CSS**"
   ]
  },
  {
   "cell_type": "markdown",
   "id": "00cf5774",
   "metadata": {},
   "source": [
    "1. Você está trabalhando no desenvolvimento de uma página web e precisa aplicar estilos específicos a diferentes elementos usando classes CSS. Seu desafio é criar uma classe chamada \"texto-destaque\" no arquivo HTML para um elemento <p>e, em seguida, estilizar essa classe no arquivo CSS para alterar a cor do texto. Use sua criatividade para escolher cores que tornem o texto destacado, mas ainda legível e harmonioso com o design geral da página."
   ]
  },
  {
   "cell_type": "code",
   "execution_count": null,
   "id": "3c004cb0",
   "metadata": {
    "vscode": {
     "languageId": "javascript"
    }
   },
   "outputs": [],
   "source": [
    "<p class=\"texto-destaque\">Olá! Sou Joana Santos, desenvolvedora front-end \n",
    "com especialidade em <strong>React, HTML e CSS</strong>. Ajudo pequenos \n",
    "negócios e designers a colocarem em prática boas ideias. Vamos conversar?</p>"
   ]
  },
  {
   "cell_type": "code",
   "execution_count": null,
   "id": "6984945d",
   "metadata": {
    "vscode": {
     "languageId": "css"
    }
   },
   "outputs": [],
   "source": [
    ".texto-destaque {\n",
    "          color: #FF5733;\n",
    "}"
   ]
  },
  {
   "cell_type": "markdown",
   "id": "bf6da8db",
   "metadata": {},
   "source": [
    "2. Imagine que você está desenvolvendo um blog e precisa destacar os títulos das postagens. Crie uma classe CSS chamada \"titulo-blog\" e aplique-a a elementos no seu arquivo HTML. Em seguida, personalize essa classe no arquivo CSS para mudar a cor do texto, para dar mais destaque."
   ]
  },
  {
   "cell_type": "code",
   "execution_count": null,
   "id": "f4cb3810",
   "metadata": {
    "vscode": {
     "languageId": "html"
    }
   },
   "outputs": [],
   "source": [
    "<h1 class=\"titulo-blog\">Eleve seu negócio digital a outro nível<strong>com um\n",
    "Front-end de qualidade!</strong></h1>"
   ]
  },
  {
   "cell_type": "code",
   "execution_count": null,
   "id": "7f1d95fc",
   "metadata": {
    "vscode": {
     "languageId": "css"
    }
   },
   "outputs": [],
   "source": [
    ".titulo-blog {\n",
    "        color: #007BFF;\n",
    "}"
   ]
  },
  {
   "cell_type": "markdown",
   "id": "a57d9ead",
   "metadata": {},
   "source": [
    "3. Você está trabalhando em um site de notícias e precisa aplicar um estilo diferente para notícias urgentes. Crie uma classe CSS chamada \"urgente\" e aplique-a a elementos que contêm notícias urgentes. No CSS, faça com que o texto desses parágrafos seja vermelho, para chamar a atenção do leitor."
   ]
  },
  {
   "cell_type": "code",
   "execution_count": null,
   "id": "18a94f04",
   "metadata": {
    "vscode": {
     "languageId": "html"
    }
   },
   "outputs": [],
   "source": [
    "<p class=\"urgente\">Olá! Sou Joana Santos, desenvolvedora front-end com especialidade\n",
    "em <strong>React, HTML e CSS</strong>. Ajudo pequenos negócios e designers a colocarem \n",
    "em prática boas ideias. Vamos conversar?</p>"
   ]
  },
  {
   "cell_type": "code",
   "execution_count": null,
   "id": "b1a3c170",
   "metadata": {
    "vscode": {
     "languageId": "css"
    }
   },
   "outputs": [],
   "source": [
    ".urgente {\n",
    "    color: red;\n",
    "}"
   ]
  },
  {
   "cell_type": "markdown",
   "id": "099a9894",
   "metadata": {},
   "source": [
    "4. Você está trabalhando em um projeto de site e notou que o layout está um pouco desorganizado devido aos estilos padrões aplicados pelo navegador. Sua tarefa é aplicar um \"reset CSS\" para remover esses estilos padrão. Comece criando um arquivo CSS e utilize o seletor universal * para definir a margin e o padding de todos os elementos para 0. Teste o efeito dessa mudança no layout do seu site."
   ]
  },
  {
   "cell_type": "code",
   "execution_count": null,
   "id": "bf8c6941",
   "metadata": {
    "vscode": {
     "languageId": "css"
    }
   },
   "outputs": [],
   "source": [
    "* {\n",
    "    margin: 0;\n",
    "    padding: 0;\n",
    "}"
   ]
  },
  {
   "cell_type": "markdown",
   "id": "2b2c2472",
   "metadata": {},
   "source": [
    "5. Agora que você entendeu o modelo de caixa CSS, aplique esse conhecimento no seu projeto. Selecione um elemento específico (por exemplo, um parágrafo) e ajuste as propriedades de margin, border,\n",
    " padding \n",
    "e content. Observe como cada alteração afeta o posicionamento e a aparência do elemento na página."
   ]
  },
  {
   "cell_type": "code",
   "execution_count": null,
   "id": "dd9192b5",
   "metadata": {
    "vscode": {
     "languageId": "css"
    }
   },
   "outputs": [],
   "source": [
    "p {\n",
    "    margin: 10px;\n",
    "    border: 2px solid black;\n",
    "    padding: 5px;\n",
    "}"
   ]
  }
 ],
 "metadata": {
  "language_info": {
   "name": "python"
  }
 },
 "nbformat": 4,
 "nbformat_minor": 5
}
