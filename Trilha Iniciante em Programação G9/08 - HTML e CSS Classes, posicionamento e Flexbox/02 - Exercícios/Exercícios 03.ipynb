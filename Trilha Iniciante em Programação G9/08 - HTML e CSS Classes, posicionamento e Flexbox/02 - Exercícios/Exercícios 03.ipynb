{
 "cells": [
  {
   "cell_type": "markdown",
   "id": "d275f19f",
   "metadata": {},
   "source": [
    "**Resolução dos exercícios**"
   ]
  },
  {
   "cell_type": "markdown",
   "id": "2a2dfb64",
   "metadata": {},
   "source": [
    "1. Aqui, o objetivo é ajustar o espaçamento entre a seção de texto e a imagem para criar uma aparência semelhante ao design do Figma. Use a propriedade justify-content: space-between; em Flexbox para espaçar os elementos e adicione margens para evitar que os elementos fiquem colados nas bordas da tela."
   ]
  },
  {
   "cell_type": "code",
   "execution_count": null,
   "id": "8aa6ce5b",
   "metadata": {
    "vscode": {
     "languageId": "css"
    }
   },
   "outputs": [],
   "source": [
    ".apresentacao {\n",
    "  display: flex;\n",
    "  align-items: center;\n",
    "  justify-content: space-between;\n",
    "  margin: 10%;\n",
    "}"
   ]
  },
  {
   "cell_type": "markdown",
   "id": "52c8ec09",
   "metadata": {},
   "source": [
    "2. Nesta atividade, você irá ajustar o tamanho de uma seção de texto para que corresponda às especificações do design no Figma. Você vai adicionar uma nova classe chamada apresentacao__conteudo no HTML e, em seguida, definir a largura dessa seção no CSS usando a propriedade width. O valor específico da largura deve ser retirado do projeto no Figma."
   ]
  },
  {
   "cell_type": "markdown",
   "id": "cf626df8",
   "metadata": {},
   "source": [
    "A - No HTML, adicione a classe apresentacao__conteudo:"
   ]
  },
  {
   "cell_type": "code",
   "execution_count": null,
   "id": "76d51ab1",
   "metadata": {
    "vscode": {
     "languageId": "html"
    }
   },
   "outputs": [],
   "source": [
    "<section class=\"apresentacao__conteudo\">\n",
    "    <!-- Conteúdo da seção -->\n",
    "</section>\n",
    "g"
   ]
  },
  {
   "cell_type": "markdown",
   "id": "1981116b",
   "metadata": {},
   "source": [
    "B - No CSS, defina a largura da seção usando a propriedade width. O valor da largura deve ser o mesmo encontrado no Figma:"
   ]
  },
  {
   "cell_type": "code",
   "execution_count": null,
   "id": "cd605226",
   "metadata": {
    "vscode": {
     "languageId": "css"
    }
   },
   "outputs": [],
   "source": [
    ".apresentacao__conteudo {\n",
    "    width: 615px;\n",
    "}"
   ]
  },
  {
   "cell_type": "markdown",
   "id": "c41c3c9b",
   "metadata": {},
   "source": [
    "3. O objetivo aqui é modificar o tamanho dos textos de títulos e parágrafos para que correspondam ao design no Figma. Você vai criar classes específicas para o título (apresentacao__conteudo__titulo) e para o texto (apresentacao__conteudo__texto) no HTML. Depois, no CSS, você usará a propriedade font-size para definir os tamanhos de fonte para estas classes, com os valores retirados do Figma."
   ]
  },
  {
   "cell_type": "markdown",
   "id": "2082b5e1",
   "metadata": {},
   "source": [
    "A - No HTML, adicione classes específicas para o título e para o texto:"
   ]
  },
  {
   "cell_type": "code",
   "execution_count": null,
   "id": "46ff6552",
   "metadata": {
    "vscode": {
     "languageId": "html"
    }
   },
   "outputs": [],
   "source": [
    "<h1 class=\"apresentacao__conteudo__titulo\">Título</h1>\n",
    "<p class=\"apresentacao__conteudo__texto\">Texto</p>"
   ]
  },
  {
   "cell_type": "markdown",
   "id": "1e394d39",
   "metadata": {},
   "source": [
    "B - No CSS, ajuste o tamanho da fonte para essas classes. Os valores devem ser os mesmos encontrados no Figma:"
   ]
  },
  {
   "cell_type": "code",
   "execution_count": null,
   "id": "3d8d4927",
   "metadata": {
    "vscode": {
     "languageId": "css"
    }
   },
   "outputs": [],
   "source": [
    ".apresentacao__conteudo__titulo {\n",
    "    font-size: 36px;\n",
    "}\n",
    "\n",
    ".apresentacao__conteudo__texto {\n",
    "    font-size: 24px;\n",
    "}\n"
   ]
  },
  {
   "cell_type": "markdown",
   "id": "4b5693ee",
   "metadata": {},
   "source": [
    "4. Nesta atividade, você irá importar as fontes \"Krona One\" e \"Montserrat\" do Google Fonts para o seu projeto web. Primeiro, você precisa pesquisar essas fontes no Google Fonts e utilizar a opção de @import para incluí-las no arquivo CSS. Em seguida, você aplicará essas fontes aos elementos de texto específicos na sua página, como títulos e parágrafos, usando a propriedade font-family."
   ]
  },
  {
   "cell_type": "markdown",
   "id": "c07875aa",
   "metadata": {},
   "source": [
    "A - Acesse o Google Fonts, procure pelas fontes \"Krona One\" e \"Montserrat\" e selecione os estilos desejados.\n",
    "\n",
    "B - Utilize a opção `@import` para copiar o código de importação fornecido pelo Google Fonts:"
   ]
  },
  {
   "cell_type": "code",
   "execution_count": null,
   "id": "0f7d5f02",
   "metadata": {
    "vscode": {
     "languageId": "css"
    }
   },
   "outputs": [],
   "source": [
    "@import url('https://fonts.googleapis.com/css2?family=Krona+One&family=Montserrat&display=swap');\n"
   ]
  },
  {
   "cell_type": "markdown",
   "id": "2953db61",
   "metadata": {},
   "source": [
    "C - Cole este código no topo do arquivo CSS."
   ]
  },
  {
   "cell_type": "markdown",
   "id": "0f7eca80",
   "metadata": {},
   "source": [
    "5. Depois de importar as fontes, você irá personalizar o estilo dos títulos e textos da página para que correspondam ao design no Figma. Você modificará a propriedade font-family para os elementos de título e texto no CSS, aplicando as fontes \"Krona One\" e \"Montserrat\" respectivamente. O objetivo é garantir que o estilo visual da página web esteja alinhado com o design proposto."
   ]
  },
  {
   "cell_type": "markdown",
   "id": "40c9fa9d",
   "metadata": {},
   "source": [
    "A - No arquivo CSS, aplique a fonte \"Krona One\" ao título:"
   ]
  },
  {
   "cell_type": "code",
   "execution_count": null,
   "id": "372aa42a",
   "metadata": {
    "vscode": {
     "languageId": "css"
    }
   },
   "outputs": [],
   "source": [
    ".apresentacao__conteudo__titulo {\n",
    "    font-size: 36px;\n",
    "    font-family: 'Krona One', sans-serif;\n",
    "}"
   ]
  },
  {
   "cell_type": "markdown",
   "id": "15d01583",
   "metadata": {},
   "source": [
    "B - Aplique a fonte \"Montserrat\" ao texto:"
   ]
  },
  {
   "cell_type": "code",
   "execution_count": null,
   "id": "1a341cd6",
   "metadata": {
    "vscode": {
     "languageId": "css"
    }
   },
   "outputs": [],
   "source": [
    ".apresentacao__conteudo__texto {\n",
    "    font-size: 24px;\n",
    "    font-family: 'Montserrat', sans-serif;\n",
    "}"
   ]
  }
 ],
 "metadata": {
  "language_info": {
   "name": "python"
  }
 },
 "nbformat": 4,
 "nbformat_minor": 5
}
