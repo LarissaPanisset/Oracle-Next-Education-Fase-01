{
 "cells": [
  {
   "cell_type": "markdown",
   "id": "339b0ef9",
   "metadata": {},
   "source": [
    "**Resolução dos exercícios**"
   ]
  },
  {
   "cell_type": "markdown",
   "id": "08be7750",
   "metadata": {
    "vscode": {
     "languageId": "javascript"
    }
   },
   "source": [
    "1. Você está desenvolvendo um site e deseja que ele ocupe 100% da altura da tela do usuário, sem deixar espaços em branco acima ou abaixo do conteúdo. Para isso, você precisa ajustar o elemento body do seu CSS para garantir que ele preencha toda a altura da tela. Utilize a propriedade height e o valor 100vh para conseguir este efeito. Teste o resultado usando a ferramenta \"Inspecionar\" do navegador para verificar se o body realmente ocupa toda a altura da tela."
   ]
  },
  {
   "cell_type": "code",
   "execution_count": null,
   "id": "e3f4f9a2",
   "metadata": {
    "vscode": {
     "languageId": "css"
    }
   },
   "outputs": [],
   "source": [
    "body{\n",
    "    height: 100vh;\n",
    "    background-color: #000000;\n",
    "    color: #F6F6F6;\n",
    "}"
   ]
  },
  {
   "cell_type": "markdown",
   "id": "34df7b52",
   "metadata": {},
   "source": [
    "2. Imagine que você está trabalhando em um projeto web e precisa garantir que todos os elementos filhos dentro do body não ultrapassem os limites, especialmente ao adicionar bordas e paddings. Para isso, você deve utilizar a propriedade box-sizing com o valor border-box no elemento body. Após aplicar esta configuração, inspecione o layout para garantir que nenhum elemento filho ultrapasse o limite do body e os seus próprios tamanhos definidos, mesmo ao adicionar bordas e paddings."
   ]
  },
  {
   "cell_type": "code",
   "execution_count": null,
   "id": "5bc031e9",
   "metadata": {
    "vscode": {
     "languageId": "css"
    }
   },
   "outputs": [],
   "source": [
    "body{\n",
    "    box-sizing: border-box;\n",
    "    height: 100vh;\n",
    "    background-color: #000000;\n",
    "    color: #F6F6F6;\n",
    "}"
   ]
  },
  {
   "cell_type": "markdown",
   "id": "384e2a1b",
   "metadata": {},
   "source": [
    "3. Você recebeu um design do Figma para um site que deve caber em uma única tela, sem necessidade de scroll. O design inclui dois blocos de conteúdo sobre um fundo preto. O desafio é criar um layout CSS que reproduza essa estrutura, garantindo que todo o conteúdo caiba em uma tela, sem scroll. Utilize as propriedades CSS adequadas para posicionar os blocos de conteúdo lado a lado e centralizá-los na página, mantendo o design conforme especificado no Figma."
   ]
  },
  {
   "cell_type": "code",
   "execution_count": null,
   "id": "ac4a2992",
   "metadata": {
    "vscode": {
     "languageId": "css"
    }
   },
   "outputs": [],
   "source": [
    "body {\n",
    "    display: flex;\n",
    "    justify-content: center;\n",
    "    align-items: center;\n",
    "    height: 100vh;\n",
    "    width: 100%;\n",
    "}"
   ]
  },
  {
   "cell_type": "markdown",
   "id": "655c2f61",
   "metadata": {},
   "source": [
    "4. Você está desenvolvendo um site e precisa posicionar textos e uma imagem lado a lado, adaptando-se a diferentes tamanhos de tela. Utilize Flexbox para alinhar um bloco de texto à esquerda e uma imagem à direita."
   ]
  },
  {
   "cell_type": "code",
   "execution_count": null,
   "id": "784ca6da",
   "metadata": {
    "vscode": {
     "languageId": "html"
    }
   },
   "outputs": [],
   "source": [
    "<main class=\"container\">\n",
    "  <p class=\"texto\">Texto aqui...</p>\n",
    "  <img class=\"imagem\">\n",
    "</main>"
   ]
  },
  {
   "cell_type": "code",
   "execution_count": null,
   "id": "7ee61a5f",
   "metadata": {
    "vscode": {
     "languageId": "css"
    }
   },
   "outputs": [],
   "source": [
    ".container {\n",
    "  display: flex;\n",
    "  justify-content: space-between;\n",
    "}"
   ]
  },
  {
   "cell_type": "markdown",
   "id": "b8dba512",
   "metadata": {},
   "source": [
    "5. Seu desafio é centralizar verticalmente o conteúdo de um container usando Flexbox."
   ]
  },
  {
   "cell_type": "code",
   "execution_count": null,
   "id": "f2041d86",
   "metadata": {
    "vscode": {
     "languageId": "html"
    }
   },
   "outputs": [],
   "source": [
    "<div class=\"container\">\n",
    "  <div>Item 1</div>\n",
    "  <div>Item 2</div>\n",
    "  <!-- Mais itens aqui -->\n",
    "</div>"
   ]
  },
  {
   "cell_type": "code",
   "execution_count": null,
   "id": "eaba89d9",
   "metadata": {
    "vscode": {
     "languageId": "css"
    }
   },
   "outputs": [],
   "source": [
    ".container {\n",
    "  display: flex;\n",
    "  align-items: center;\n",
    "  height: 300px; /* Altura ajustável conforme necessário */\n",
    "}"
   ]
  },
  {
   "cell_type": "markdown",
   "id": "e39204c9",
   "metadata": {},
   "source": [
    "6. Crie uma página web responsiva onde os elementos se ajustam em diferentes tamanhos de tela, evitando margens fixas. Utilize Flexbox para alternar entre dispor elementos em uma linha ou coluna."
   ]
  },
  {
   "cell_type": "code",
   "execution_count": null,
   "id": "8e24814a",
   "metadata": {
    "vscode": {
     "languageId": "html"
    }
   },
   "outputs": [],
   "source": [
    "<div class=\"responsivo-container\">\n",
    "  <div>Conteúdo 1</div>\n",
    "  <div>Conteúdo 2</div>\n",
    "  <!-- Mais conteúdos -->\n",
    "</div>"
   ]
  },
  {
   "cell_type": "code",
   "execution_count": null,
   "id": "6d02e2d8",
   "metadata": {
    "vscode": {
     "languageId": "css"
    }
   },
   "outputs": [],
   "source": [
    ".responsivo-container {\n",
    "  display: flex;\n",
    "  flex-direction: row;\n",
    "  flex-wrap: wrap;\n",
    "}"
   ]
  }
 ],
 "metadata": {
  "kernelspec": {
   "display_name": "Python 3",
   "language": "python",
   "name": "python3"
  },
  "language_info": {
   "name": "python",
   "version": "3.13.5"
  }
 },
 "nbformat": 4,
 "nbformat_minor": 5
}
