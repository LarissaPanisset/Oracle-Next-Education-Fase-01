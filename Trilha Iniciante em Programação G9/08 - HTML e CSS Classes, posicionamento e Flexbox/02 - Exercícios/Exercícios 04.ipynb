{
 "cells": [
  {
   "cell_type": "markdown",
   "id": "85fe5b6e",
   "metadata": {},
   "source": [
    "**Resolução dos exercícios**"
   ]
  },
  {
   "cell_type": "markdown",
   "id": "7f65b1e5",
   "metadata": {},
   "source": [
    "1. Aqui, o desafio é ajustar o espaçamento e o tamanho dos botões. Após ter alinhado os botões horizontalmente com Flexbox, você precisa garantir que eles tenham um tamanho adequado e um espaçamento consistente entre si, conforme o design do projeto. Altere o CSS para ajustar o tamanho dos botões e adicione margem para criar o espaçamento correto."
   ]
  },
  {
   "cell_type": "markdown",
   "id": "950cab0e",
   "metadata": {},
   "source": [
    "A - Continuando no arquivo `style.css`,  nas tags `<a>` dentro de `.apresentacao__links`.\n",
    "\n",
    "B - Definir um tamanho consistente para os botões utilizando propriedades como `padding` e `font-size`.\n",
    "\n",
    "C - Usar a propriedade `margin` para adicionar espaço entre os botões."
   ]
  },
  {
   "cell_type": "code",
   "execution_count": null,
   "id": "d1269092",
   "metadata": {
    "vscode": {
     "languageId": "css"
    }
   },
   "outputs": [],
   "source": [
    ".apresentacao__linksa {\n",
    "    padding: 10px 20px;\n",
    "    font-size: 16px;\n",
    "    margin: 5px;\n",
    "}"
   ]
  },
  {
   "cell_type": "markdown",
   "id": "0947e688",
   "metadata": {},
   "source": [
    "2. Nesta atividade, seu foco será na acessibilidade e visibilidade dos botões. Guilherme mencionou a dificuldade em enxergar os botões. Portanto, aumente o tamanho da fonte, altere as cores e adicione efeitos como sombra ou borda para torná-los mais visíveis e atrativos. Use suas habilidades em CSS para melhorar a estética e a acessibilidade dos botões na página."
   ]
  },
  {
   "cell_type": "markdown",
   "id": "89935359",
   "metadata": {},
   "source": [
    "A - Nas tags `<a>` dentro de `.apresentacao__links`.\n",
    "\n",
    "B - Aumentar a fonte usando `font-size` para melhorar a legibilidade.\n",
    "\n",
    "C - Alterar a cor de fundo e a cor da fonte para contrastar melhor."
   ]
  },
  {
   "cell_type": "code",
   "execution_count": null,
   "id": "036fdea2",
   "metadata": {
    "vscode": {
     "languageId": "css"
    }
   },
   "outputs": [],
   "source": [
    ".apresentacao__linksa {\n",
    "    font-size: 18px;\n",
    "    background-color: #007bff;\n",
    "    color: white;\n",
    "    border-radius: 5px;\n",
    "}"
   ]
  },
  {
   "cell_type": "markdown",
   "id": "960670e2",
   "metadata": {},
   "source": [
    "3. Nesta atividade, você irá criar uma classe CSS comum para os botões \"Instagram\" e \"GitHub\" no seu projeto HTML. Essa classe terá propriedades de estilo que farão os botões se parecerem com os do design no Figma, incluindo cor de fundo, tamanho do texto, e arredondamento dos vértices."
   ]
  },
  {
   "cell_type": "markdown",
   "id": "78a4a2fe",
   "metadata": {},
   "source": [
    "A - No arquivo `index.html`, adicionar a classe `apresentacao__links__link` às tags `<a>` dentro da `<div class=\"apresentacao__links\">`.\n",
    "\n",
    "B - No arquivo `style.css`, criar a classe `.apresentacao__links__link` e adicionar as propriedades de estilo como `background-color`, `width`, `text-align`, `border-radius` e `font-size`."
   ]
  },
  {
   "cell_type": "code",
   "execution_count": null,
   "id": "2f9438ed",
   "metadata": {
    "vscode": {
     "languageId": "css"
    }
   },
   "outputs": [],
   "source": [
    ".apresentacao__links__link {\n",
    "    background-color: #22D4FD;\n",
    "    width: 280px;\n",
    "    text-align: center;\n",
    "    border-radius: 16px;\n",
    "    font-size: 24px;\n",
    "}"
   ]
  },
  {
   "cell_type": "markdown",
   "id": "608100a9",
   "metadata": {},
   "source": [
    "4. O objetivo desta atividade é ajustar o espaçamento interno dos botões para que eles correspondam ao design no Figma. Você vai utilizar a propriedade padding para definir o espaço entre o texto do botão e suas bordas, garantindo que o layout seja consistente e visualmente agradável."
   ]
  },
  {
   "cell_type": "markdown",
   "id": "32cdd40a",
   "metadata": {},
   "source": [
    "A - No arquivo style.css, dentro da classe .apresentacao__links__link, ajustar o padding para 21.5px na parte superior e inferior, mantendo 0 nas laterais."
   ]
  },
  {
   "cell_type": "code",
   "execution_count": null,
   "id": "71bb90de",
   "metadata": {
    "vscode": {
     "languageId": "css"
    }
   },
   "outputs": [],
   "source": [
    ".apresentacao__links__link {\n",
    "    padding: 21.5px 0;\n",
    "}"
   ]
  },
  {
   "cell_type": "markdown",
   "id": "83f7b394",
   "metadata": {},
   "source": [
    "5. Nesta atividade, você se concentrará em ajustar a fonte dos botões. Vai importar a fonte Montserrat com o peso 600 do Google Fonts e aplicá-la aos botões, garantindo que o texto corresponda exatamente ao design no Figma. Além disso, você removerá o sublinhado padrão dos links e ajustará a cor do texto."
   ]
  },
  {
   "cell_type": "markdown",
   "id": "f8b9d6a6",
   "metadata": {},
   "source": [
    "A - Adicionar o `@import url` da fonte Montserrat com peso 600 no início do arquivo `style.css`.\n",
    "\n",
    "B - Aplicar a fonte Montserrat e o peso de fonte apropriado na classe `.apresentacao__links__link`,  ajustar a cor do texto e remover a decoração do texto"
   ]
  },
  {
   "cell_type": "code",
   "execution_count": null,
   "id": "2bb7df5b",
   "metadata": {
    "vscode": {
     "languageId": "css"
    }
   },
   "outputs": [],
   "source": [
    "@import url('https://fonts.googleapis.com/css2?family=Montserrat:wght@600&display=swap');\n",
    "\n",
    ".apresentacao__links__link {\n",
    "    font-family: 'Montserrat', sans-serif;\n",
    "    font-weight: 600;\n",
    "    color: #000000;\n",
    "    text-decoration: none;\n",
    "}"
   ]
  }
 ],
 "metadata": {
  "language_info": {
   "name": "python"
  }
 },
 "nbformat": 4,
 "nbformat_minor": 5
}
