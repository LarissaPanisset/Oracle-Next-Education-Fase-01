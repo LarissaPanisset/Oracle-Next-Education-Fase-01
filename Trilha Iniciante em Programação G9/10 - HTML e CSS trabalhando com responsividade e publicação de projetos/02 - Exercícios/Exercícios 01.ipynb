{
 "cells": [
  {
   "cell_type": "markdown",
   "id": "bfa89a07",
   "metadata": {},
   "source": [
    "**Resolução dos exercícios**"
   ]
  },
  {
   "cell_type": "markdown",
   "id": "00cf5774",
   "metadata": {},
   "source": [
    "1. Nesta atividade, você adaptará o corpo do texto do seu projeto para responder melhor às configurações do navegador do usuário. Escolha elementos de texto, como parágrafos (`<p>`) ou subtítulos (`<h2>`), no arquivo `style.css` e altere a unidade de medida do `font-size` de `px` para `rem`. Por exemplo, se um parágrafo está com `font-size: 18px`, converta para `1.125rem` (18 / 16 = 1.125). Após a alteração, salve o arquivo e teste o comportamento do texto alterando o tamanho da fonte nas configurações de aparência do navegador.\n",
    "\n",
    "- No arquivo `style.css`, escolher elementos de texto como `<p>` ou `<h2>`.\n",
    "- Mudar o `font-size` de `px` para `rem`, usando a regra de conversão (dividir o valor em pixels por 16)."
   ]
  },
  {
   "cell_type": "markdown",
   "id": "bf6da8db",
   "metadata": {},
   "source": [
    "2. Você está trabalhando em um projeto de site e recebeu a tarefa de atualizar o CSS para melhorar a responsividade do texto. Seu objetivo é converter todas as unidades de `font-size` de pixels para rem, seguindo o exemplo que Guilherme e Rafaela mostraram. Inicie procurando todas as ocorrências de `font-size` no arquivo `styles.css` e faça a conversão. Lembre-se de que o valor padrão para 1rem é 16px. Por exemplo, se encontrar `font-size: 24px;`, você deve converter para `font-size: 1.5rem;`.\n",
    "\n",
    "- No arquivo `styles.css` .\n",
    "- Utilizar o atalho \"Ctrl + F\" para procurar por `font-size`.\n",
    "- Para cada ocorrência de `font-size` em pixels, converter o valor para rem.\n",
    "- Substituir o valor original pelo novo valor em rem."
   ]
  },
  {
   "cell_type": "markdown",
   "id": "a57d9ead",
   "metadata": {},
   "source": [
    "3. Seu desafio agora é testar a responsividade do site após as alterações feitas no `font-size`. Para isso, abra a página de portfólio no navegador e altere as configurações de tamanho de fonte (Muito grande, Grande, Médio, Pequeno e Muito pequeno). Observe como os textos do site se adaptam a cada mudança e faça anotações sobre quaisquer problemas de layout ou legibilidade que você encontre. Isso ajudará a identificar se as mudanças feitas realmente melhoraram a experiência do usuário em diferentes configurações.\n",
    "\n",
    "- Alterar as configurações de tamanho de fonte do navegador em diferentes níveis (Muito grande, Grande, Médio, Pequeno, Muito pequeno).\n",
    "- Observar como os textos e o layout do site se adaptam a cada tamanho de fonte.\n",
    "- Anotar quaisquer problemas de layout ou legibilidade que encontrar em cada configuração de tamanho."
   ]
  },
  {
   "cell_type": "markdown",
   "id": "099a9894",
   "metadata": {},
   "source": [
    "4. Após testar a responsividade do site, você percebeu que algumas seções não se adaptam bem a tamanhos de fonte muito grandes ou muito pequenos. Sua tarefa agora é ajustar o CSS para garantir que o site permaneça legível e visualmente agradável em todos os tamanhos de fonte. Isso pode envolver ajustar `margin`, `padding`, ou até mesmo o `font-size` de algumas seções específicas. Faça as alterações necessárias no arquivo `styles.css` e teste novamente a responsividade em diferentes tamanhos de fonte.\n",
    "\n",
    "- No arquivo `styles.css`.\n",
    "- Fazer ajustes em `margin`, `padding`, e `font-size` conforme necessário para melhorar a legibilidade e o layout em diferentes tamanhos de fonte.\n",
    "- Testar novamente cada tamanho de fonte no navegador para garantir que as mudanças produziram o efeito desejado.\n",
    "- Continuar ajustando e testando até que o site seja responsivo e confortável de ler em todos os tamanhos de fonte."
   ]
  }
 ],
 "metadata": {
  "language_info": {
   "name": "python"
  }
 },
 "nbformat": 4,
 "nbformat_minor": 5
}
