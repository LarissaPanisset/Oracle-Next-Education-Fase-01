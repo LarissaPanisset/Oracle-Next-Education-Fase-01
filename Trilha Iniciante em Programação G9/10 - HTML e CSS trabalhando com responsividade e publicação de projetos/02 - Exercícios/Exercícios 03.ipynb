{
 "cells": [
  {
   "cell_type": "markdown",
   "id": "d275f19f",
   "metadata": {},
   "source": [
    "**Resolução dos exercícios**"
   ]
  },
  {
   "cell_type": "markdown",
   "id": "2a2dfb64",
   "metadata": {},
   "source": [
    "1. Você está trabalhando em um projeto de portfólio e percebeu que, ao diminuir o tamanho da tela, os elementos começam a se comportar de forma indesejada, com a imagem colada ao texto. Seu desafio é ajustar o layout da página para que, ao diminuir a tela, haja um espaço adequado entre os elementos. Utilize a propriedade `gap` no CSS para criar um espaçamento entre o conteúdo e a imagem dentro da classe `.apresentacao`.\n",
    "\n",
    "- Observar o comportamento dos elementos ao diminuir o tamanho da tela.\n",
    "- No arquivo CSS, na classe `.apresentacao`, adicionar a propriedade `gap` com o valor de 82px, conforme indicado no projeto web do Figma:"
   ]
  },
  {
   "cell_type": "code",
   "execution_count": null,
   "id": "8aa6ce5b",
   "metadata": {
    "vscode": {
     "languageId": "css"
    }
   },
   "outputs": [],
   "source": [
    "    .apresentacao {\n",
    "        gap: 82px;\n",
    "        /* Restante das propriedades */\n",
    "    }"
   ]
  },
  {
   "cell_type": "markdown",
   "id": "23ab1515",
   "metadata": {},
   "source": [
    "Testar a responsividade ajustando o tamanho da tela para verificar se o espaço entre o texto e a imagem se mantém adequado."
   ]
  },
  {
   "cell_type": "markdown",
   "id": "52c8ec09",
   "metadata": {},
   "source": [
    "2. Quando a largura da tela atinge cerca de 1300px, você nota que a imagem na página do portfólio fica isolada no lado direito. Seu objetivo agora é alterar o layout para que, em telas menores que 1023px, a imagem seja posicionada acima do texto, seguindo o design mobile no Figma. Para isso, implemente uma media query no CSS que modifique a disposição dos elementos da classe `.apresentacao` para uma coluna quando a tela for menor que 1023px.\n",
    "\n",
    "- Determinar um ponto de quebra para a largura da tela em 1023px.\n",
    "- No arquivo CSS, adicionar:"
   ]
  },
  {
   "cell_type": "code",
   "execution_count": null,
   "id": "76d51ab1",
   "metadata": {
    "vscode": {
     "languageId": "css"
    }
   },
   "outputs": [],
   "source": [
    "@media (max-width: 1023px) {\n",
    "        .apresentacao {\n",
    "            flex-direction: column;\n",
    "            /* Outras propriedades, se necessário */\n",
    "        }\n",
    "    }"
   ]
  },
  {
   "cell_type": "markdown",
   "id": "b3acbd63",
   "metadata": {},
   "source": [
    "Verificar, ao diminuir a largura da tela para menos de 1023px, a imagem se move para cima do texto, conforme o design mobile."
   ]
  },
  {
   "cell_type": "markdown",
   "id": "c41c3c9b",
   "metadata": {},
   "source": [
    "3. Agora que você ajustou o layout para telas menores, percebeu que a ordem dos elementos na classe `.apresentacao` não está conforme o design do Figma, onde a imagem deveria aparecer acima do texto. Seu desafio é alterar a ordem dos elementos dentro dessa classe quando a tela estiver abaixo de 1200px de largura. Utilize a propriedade `flex-direction` no CSS com o valor `column-reverse` na media query para inverter a ordem dos elementos.\n",
    "\n",
    "- Ajustar a ordem dos elementos para que a imagem apareça acima do texto em telas menores que 1200px.\n",
    "- No arquivo CSS, na media query para telas menores que 1200px, adicionar o valor `column-reverse` à propriedade `flex-direction` da classe `.apresentacao`:"
   ]
  },
  {
   "cell_type": "code",
   "execution_count": null,
   "id": "46ff6552",
   "metadata": {
    "vscode": {
     "languageId": "css"
    }
   },
   "outputs": [],
   "source": [
    "@media (max-width: 1200px) {\n",
    "        .apresentacao {\n",
    "            flex-direction: column-reverse;\n",
    "            /* Outras propriedades, se necessário */\n",
    "        }\n",
    "    }"
   ]
  },
  {
   "cell_type": "markdown",
   "id": "82f8fe01",
   "metadata": {},
   "source": [
    "Testar a mudança no navegador para garantir que a imagem apareça acima do texto em telas com largura abaixo de 1200px, alinhando-se com o design do Figma."
   ]
  },
  {
   "cell_type": "markdown",
   "id": "4b5693ee",
   "metadata": {},
   "source": [
    "4. Neste desafio, você precisa ajustar o cabeçalho da página do portfólio para dispositivos com telas menores. Atualmente, o cabeçalho (`header`) está muito para a esquerda e quebra em certos pontos. Altere o `padding` da classe `.cabecalho` no CSS para que fique mais centralizado e com um espaço adequado na parte superior da tela, em conformidade com o design mobile no Figma.\n",
    "\n",
    "- Observar como o cabeçalho se comporta em telas menores.\n",
    "- No CSS, na media query para telas com largura máxima de 1200px, ajustar o `padding` da classe `.cabecalho` para centralizá-lo melhor:"
   ]
  },
  {
   "cell_type": "code",
   "execution_count": null,
   "id": "0f7d5f02",
   "metadata": {
    "vscode": {
     "languageId": "css"
    }
   },
   "outputs": [],
   "source": [
    "@media (max-width: 1200px) {\n",
    "        .cabecalho {\n",
    "            padding: 10%; /* Ajuste conforme necessário */\n",
    "        }\n",
    "    }\n"
   ]
  },
  {
   "cell_type": "markdown",
   "id": "ecb11c21",
   "metadata": {},
   "source": [
    "Testar o layout em diferentes larguras de tela para garantir que o cabeçalho esteja alinhado adequadamente."
   ]
  },
  {
   "cell_type": "markdown",
   "id": "0f7eca80",
   "metadata": {},
   "source": [
    "5. Agora que o `padding` do cabeçalho foi ajustado, seu próximo passo é centralizar os itens \"Home\" e \"Sobre mim\" que estão dentro do cabeçalho. Para isso, utilize o flexbox na classe `.cabecalho__menu`. Verifique se a propriedade `display: flex` já está aplicada e adicione `justify-content: center` para alinhar os itens centralmente.\n",
    "\n",
    "- Verificar se a classe `.cabecalho__menu` já possui a propriedade `display: flex`.\n",
    "- Adicionar `justify-content: center` à classe `.cabecalho__menu` na mesma media query para centralizar os itens:"
   ]
  },
  {
   "cell_type": "code",
   "execution_count": null,
   "id": "372aa42a",
   "metadata": {
    "vscode": {
     "languageId": "css"
    }
   },
   "outputs": [],
   "source": [
    "@media (max-width: 1200px) {\n",
    "        .cabecalho__menu {\n",
    "            justify-content: center;\n",
    "        }\n",
    "    }\n"
   ]
  },
  {
   "cell_type": "markdown",
   "id": "a1b0093d",
   "metadata": {},
   "source": [
    "Testar a página para ver se os itens \"Home\" e \"Sobre mim\" estão centralizados em telas menores."
   ]
  },
  {
   "cell_type": "markdown",
   "id": "2214b279",
   "metadata": {},
   "source": [
    "6. Por fim, verifique e refine o design do cabeçalho para telas menores. Faça os ajustes necessários no `padding` e nas propriedades do flexbox para que o cabeçalho fique visualmente alinhado com o design do Figma. Teste diferentes valores de `padding` e ajuste a propriedade `justify-content` para obter o melhor resultado.\n",
    "\n",
    "- Ajustar o `padding` e as propriedades do flexbox para refinar o design do cabeçalho.\n",
    "- Experimentar com diferentes valores de `padding` para encontrar o melhor alinhamento visual em relação ao design do Figma.\n",
    "- Confirir se as mudanças aplicadas estão proporcionando a experiência desejada em diferentes tamanhos de tela."
   ]
  }
 ],
 "metadata": {
  "language_info": {
   "name": "python"
  }
 },
 "nbformat": 4,
 "nbformat_minor": 5
}
