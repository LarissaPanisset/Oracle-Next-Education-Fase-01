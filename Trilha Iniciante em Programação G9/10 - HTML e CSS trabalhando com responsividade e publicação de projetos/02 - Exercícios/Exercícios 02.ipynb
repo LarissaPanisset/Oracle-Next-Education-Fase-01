{
 "cells": [
  {
   "cell_type": "markdown",
   "id": "339b0ef9",
   "metadata": {},
   "source": [
    "**Resolução dos exercícios**"
   ]
  },
  {
   "cell_type": "markdown",
   "id": "08be7750",
   "metadata": {
    "vscode": {
     "languageId": "javascript"
    }
   },
   "source": [
    "1. Você está trabalhando em um site e precisa garantir que as imagens se adaptem corretamente a diferentes tamanhos de tela. Sua tarefa é adicionar uma classe `apresentacao__imagem` às imagens relevantes no HTML e definir o `width` dessa classe para 50% no CSS. Isso fará com que as imagens ocupem 50% da largura do elemento pai. Certifique-se de testar em diferentes larguras de tela, como 720px, para verificar a responsividade.\n",
    "\n",
    "- No HTML, adicionar a classe `apresentacao__imagem` às tags `<img>` relevantes.\n",
    "- No CSS, adicionar:"
   ]
  },
  {
   "cell_type": "code",
   "execution_count": null,
   "id": "e3f4f9a2",
   "metadata": {
    "vscode": {
     "languageId": "css"
    }
   },
   "outputs": [],
   "source": [
    "  .apresentacao__imagem {\n",
    "      width: 50%;\n",
    "  }"
   ]
  },
  {
   "cell_type": "markdown",
   "id": "995273c3",
   "metadata": {},
   "source": [
    "Testar em diferentes larguras de tela, como 720px."
   ]
  },
  {
   "cell_type": "markdown",
   "id": "af92e49b",
   "metadata": {},
   "source": [
    "2. O layout do seu site precisa ser ajustado para diferentes dispositivos. Utilize a ferramenta \"Inspecionar\" do navegador para simular diferentes tamanhos de tela, como um notebook. Ajuste o layout da página para que ele se adapte de forma harmoniosa em telas menores. Isso pode envolver a alteração de margens, paddings, e até mesmo a reorganização de elementos na página.\n",
    "\n",
    "- Utilizar a ferramenta \"Inspecionar\" do navegador para simular diferentes tamanhos de tela.\n",
    "- Fazer ajustes no CSS para melhorar a responsividade, alterando margens, paddings e a disposição dos elementos."
   ]
  },
  {
   "cell_type": "markdown",
   "id": "36ed7fd4",
   "metadata": {},
   "source": [
    "3. O conteúdo de texto do seu site não está se adaptando bem a telas menores. Você precisa ajustar a classe `.apresentacao__conteudo` no CSS para usar larguras relativas em vez de fixas. Experimente definir a `width` para 50% e observe como o texto se adapta quando você muda o tamanho da tela. Lembre-se de que a responsividade é chave para uma boa experiência do usuário em dispositivos diversos.\n",
    "\n",
    "- No CSS, altere a classe `.apresentacao__conteudo`:"
   ]
  },
  {
   "cell_type": "code",
   "execution_count": null,
   "id": "7172fbcc",
   "metadata": {
    "vscode": {
     "languageId": "css"
    }
   },
   "outputs": [],
   "source": [
    "  .apresentacao__conteudo {\n",
    "      width: 50%;\n",
    "      /* Outras propriedades... */\n",
    "  }"
   ]
  },
  {
   "cell_type": "markdown",
   "id": "e9e26c17",
   "metadata": {},
   "source": [
    "Testar a responsividade alterando o tamanho da tela e ajustar conforme necessário."
   ]
  },
  {
   "cell_type": "markdown",
   "id": "f73e4e39",
   "metadata": {},
   "source": [
    "4. Os links de navegação do seu site estão se comportando de forma inadequada em diferentes tamanhos de tela. Sua tarefa é ajustar a classe `.apresentacao__links__navegacao` no CSS. Altere a `width` para um valor relativo, como 50%, e teste em diferentes tamanhos de tela. Observe como os links respondem a essas mudanças e ajuste conforme necessário para garantir uma navegação fluida e acessível.\n",
    "\n",
    "- No CSS, ajustar a classe `.apresentacao__links__navegacao`:"
   ]
  },
  {
   "cell_type": "code",
   "execution_count": null,
   "id": "24fce1f8",
   "metadata": {
    "vscode": {
     "languageId": "css"
    }
   },
   "outputs": [],
   "source": [
    "  .apresentacao__links__navegacao {\n",
    "      width: 50%;\n",
    "      /* Outras propriedades... */\n",
    "  }"
   ]
  },
  {
   "cell_type": "markdown",
   "id": "cb38f9ce",
   "metadata": {},
   "source": [
    "Testar em diferentes tamanhos de tela e observe a resposta dos links. Ajustar conforme necessário."
   ]
  }
 ],
 "metadata": {
  "kernelspec": {
   "display_name": "Python 3",
   "language": "python",
   "name": "python3"
  },
  "language_info": {
   "name": "python",
   "version": "3.13.5"
  }
 },
 "nbformat": 4,
 "nbformat_minor": 5
}
