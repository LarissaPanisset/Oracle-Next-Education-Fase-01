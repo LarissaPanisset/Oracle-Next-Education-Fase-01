{
 "cells": [
  {
   "cell_type": "markdown",
   "id": "85fe5b6e",
   "metadata": {},
   "source": [
    "**Resolução dos exercícios**"
   ]
  },
  {
   "cell_type": "markdown",
   "id": "7f65b1e5",
   "metadata": {},
   "source": [
    "1. Você está trabalhando em um projeto web e percebe que o design para telas menores precisa ser aprimorado. O conteúdo parece \"espremido\" ao centro, devido ao espaçamento excessivo nas laterais. Seu objetivo é ajustar o `padding` da classe `.apresentacao` no CSS para melhorar a visualização em dispositivos menores.\n",
    "\n",
    "- No arquivo `style.css`.\n",
    "- Encontrar a regra CSS para `.apresentacao` dentro do bloco `@media (max-width: 1200px)`.\n",
    "- Alterar o `padding` para `5%` para todos os lados."
   ]
  },
  {
   "cell_type": "code",
   "execution_count": null,
   "id": "d1269092",
   "metadata": {
    "vscode": {
     "languageId": "css"
    }
   },
   "outputs": [],
   "source": [
    "@media (max-width: 1200px) {\n",
    "      .apresentacao {\n",
    "          flex-direction: column-reverse;\n",
    "          padding: 5%;\n",
    "      }\n",
    "      ...\n",
    "  }"
   ]
  },
  {
   "cell_type": "markdown",
   "id": "0947e688",
   "metadata": {},
   "source": [
    "2. Após ajustar o espaçamento, você percebe que o conteúdo dentro da classe `.apresentacao__conteudo` ainda ocupa muito espaço em telas menores. Seu desafio agora é ajustar a largura dessa classe para que ela acompanhe o novo `padding` aplicado na classe `.apresentacao`.\n",
    "\n",
    "- No arquivo `style.css`.\n",
    "- No bloco `@media (max-width: 1200px)`, encontrar a classe `.apresentacao__conteudo`.\n",
    "- Definir a propriedade `width` para `auto`. O código ficará assim:"
   ]
  },
  {
   "cell_type": "code",
   "execution_count": null,
   "id": "036fdea2",
   "metadata": {
    "vscode": {
     "languageId": "css"
    }
   },
   "outputs": [],
   "source": [
    "@media (max-width: 1200px) {\n",
    "      ...\n",
    "      .apresentacao__conteudo {\n",
    "          width: auto;\n",
    "      }\n",
    "  }"
   ]
  },
  {
   "cell_type": "markdown",
   "id": "960670e2",
   "metadata": {},
   "source": [
    "3. Você está trabalhando em um projeto de site pessoal e precisa adicionar uma página \"Sobre mim\". Para isso, você deve criar um novo arquivo HTML, chamado `about.html`, e configurar um link no menu de navegação do seu site principal (`index.html`) para redirecionar para esta nova página. Além disso, ajuste o cabeçalho da página `about.html` para que o título da aba seja “Sobre mim” e adicione um `<h1>` com o texto \"Sobre mim\" no corpo da nova página. Certifique-se de que a navegação entre a página principal e a página \"Sobre mim\" esteja funcionando corretamente.\n",
    "\n",
    "- Criar um novo arquivo HTML chamado `about.html`.\n",
    "- Criar toda a estrutura básica do HTML.\n",
    "- Alterar a linguagem do documento para português brasileiro (`lang=\"pt-br\"`).\n",
    "- No `<head>`, definir o título como \"Sobre mim\" na tag `<title>`.\n",
    "- Adicionar um `<h1>` no `<body>` com o texto \"Sobre mim\".\n",
    "- No arquivo `index.html`, encontrar a seção do menu de navegação.\n",
    "- Adicionar um link para `about.html` usando a tag `<a>` com o atributo `href`."
   ]
  }
 ],
 "metadata": {
  "language_info": {
   "name": "python"
  }
 },
 "nbformat": 4,
 "nbformat_minor": 5
}
