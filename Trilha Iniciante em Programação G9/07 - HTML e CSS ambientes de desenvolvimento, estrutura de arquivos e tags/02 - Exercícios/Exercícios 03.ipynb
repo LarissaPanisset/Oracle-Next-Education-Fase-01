{
 "cells": [
  {
   "cell_type": "markdown",
   "id": "d275f19f",
   "metadata": {},
   "source": [
    "**Resolução dos exercícios**"
   ]
  },
  {
   "cell_type": "markdown",
   "id": "2a2dfb64",
   "metadata": {},
   "source": [
    "1. Você vai criar um arquivo CSS chamado style.css para estilizar uma página web. Após criar o arquivo, seu objetivo é linkar esse arquivo CSS ao HTML. Para isso, você usará a tag <link> dentro do <head> do documento HTML, especificando o caminho do arquivo CSS. Este processo é crucial para que os estilos definidos no CSS sejam aplicados à página HTML."
   ]
  },
  {
   "cell_type": "code",
   "execution_count": null,
   "id": "8aa6ce5b",
   "metadata": {
    "vscode": {
     "languageId": "html"
    }
   },
   "outputs": [],
   "source": [
    "<!DOCTYPE html>\n",
    "<html lang=\"pt-br\">\n",
    "<head>\n",
    "    <!-- Outras metainformações -->\n",
    "    <title>Portfolio</title>\n",
    "    <link rel=\"stylesheet\" href=\"style.css\">\n",
    "</head>"
   ]
  },
  {
   "cell_type": "markdown",
   "id": "52c8ec09",
   "metadata": {},
   "source": [
    "2. No arquivo CSS, defina a cor de fundo do corpo da página (<body>) para indigo (indigo) e a cor do texto para branco (white). Salve as alterações e verifique no navegador se o fundo da página está na cor indigo (entre o violeta e o azul) e o texto branco."
   ]
  },
  {
   "cell_type": "code",
   "execution_count": null,
   "id": "76d51ab1",
   "metadata": {
    "vscode": {
     "languageId": "css"
    }
   },
   "outputs": [],
   "source": [
    "body {\n",
    "    background-color: indigo;\n",
    "    color: white;\n",
    "}"
   ]
  },
  {
   "cell_type": "markdown",
   "id": "c41c3c9b",
   "metadata": {},
   "source": [
    "3. Você recebeu o desafio de dar vida a uma página web que atualmente tem apenas HTML. Sua tarefa é utilizar CSS para adicionar cores e formatos aos elementos da página, inspirando-se em um design específico fornecido no Figma. Foque em selecionar cores adequadas para os fundos, textos e bordas, além de aplicar estilos aos botões e cabeçalhos para torná-los visualmente atraentes. Você pode usar como referência essa tabela de nomes de cores."
   ]
  },
  {
   "cell_type": "code",
   "execution_count": null,
   "id": "1a341cd6",
   "metadata": {
    "vscode": {
     "languageId": "css"
    }
   },
   "outputs": [],
   "source": [
    "body {\n",
    "    background-color: #f0f0f0;\n",
    "}\n",
    "\n",
    "h1 {\n",
    "    color: #333333;\n",
    "\n",
    "}\n",
    "\n",
    "button {\n",
    "    background-color: green;\n",
    "    color: white;\n",
    "\n",
    "}"
   ]
  },
  {
   "cell_type": "markdown",
   "id": "4bbc1546",
   "metadata": {},
   "source": [
    "4. Imagine que você está trabalhando em um projeto web e chegou o momento de dar vida à sua página com cores, formas e estilos. Sua tarefa é criar um arquivo CSS para estilizar uma página HTML simples, a qual contém um cabeçalho, um parágrafo e um rodapé. Use seu conhecimento para definir as cores do texto e do fundo."
   ]
  },
  {
   "cell_type": "code",
   "execution_count": null,
   "id": "7d703b93",
   "metadata": {
    "vscode": {
     "languageId": "css"
    }
   },
   "outputs": [],
   "source": [
    "   header {\n",
    "       background-color: lightblue;\n",
    "       color: white;\n",
    "\n",
    "   }\n",
    "    p {\n",
    "\n",
    "       color: darkgray;\n",
    "\n",
    "   }\n",
    "      footer {\n",
    "       background-color: gray;\n",
    "       color: white;\n",
    "\n",
    "   }"
   ]
  },
  {
   "cell_type": "markdown",
   "id": "80ef727c",
   "metadata": {},
   "source": [
    "5. Agora, vamos um pouco além. Você precisa criar três arquivos CSS diferentes, cada um com um estilo único, para o mesmo arquivo HTML. Isso demonstrará como o CSS pode drasticamente mudar a aparência de uma página sem alterar o HTML. Crie estilos variados para os elementos da página - um arquivo com um estilo formal e elegante, outro com um estilo colorido e divertido, e um terceiro com um visual minimalista e limpo."
   ]
  },
  {
   "cell_type": "code",
   "execution_count": null,
   "id": "845b2c90",
   "metadata": {
    "vscode": {
     "languageId": "javascript"
    }
   },
   "outputs": [],
   "source": [
    "body {\n",
    "   background-color: white;\n",
    "   color: black;\n",
    "\n",
    "}"
   ]
  },
  {
   "cell_type": "code",
   "execution_count": null,
   "id": "9cdb98d0",
   "metadata": {
    "vscode": {
     "languageId": "css"
    }
   },
   "outputs": [],
   "source": [
    " body {\n",
    "     background-color: yellow;\n",
    "     color: blue;\n",
    "\n",
    "     }"
   ]
  },
  {
   "cell_type": "code",
   "execution_count": null,
   "id": "4941dfc9",
   "metadata": {
    "vscode": {
     "languageId": "css"
    }
   },
   "outputs": [],
   "source": [
    "body {\n",
    "     background-color: black;\n",
    "     color: white;\n",
    "     }"
   ]
  },
  {
   "cell_type": "markdown",
   "id": "9643785b",
   "metadata": {},
   "source": [
    "6. A última tarefa é estilizar os links na página. Você deverá modificar a aparência dos links para que se destaquem do fundo e do texto. Utilize as propriedades CSS, como colorpara personalizá-los, seguindo as diretrizes do design fornecido no Figma."
   ]
  },
  {
   "cell_type": "code",
   "execution_count": null,
   "id": "76a8cc8d",
   "metadata": {
    "vscode": {
     "languageId": "css"
    }
   },
   "outputs": [],
   "source": [
    "a {\n",
    "    color: DodgerBlue;\n",
    "\n",
    "}"
   ]
  }
 ],
 "metadata": {
  "language_info": {
   "name": "python"
  }
 },
 "nbformat": 4,
 "nbformat_minor": 5
}
