{
 "cells": [
  {
   "cell_type": "markdown",
   "id": "85fe5b6e",
   "metadata": {},
   "source": [
    "**Resolução dos exercícios**"
   ]
  },
  {
   "cell_type": "markdown",
   "id": "7f65b1e5",
   "metadata": {},
   "source": [
    "1. Imagine que você está trabalhando no desenvolvimento de um site pessoal. Utilize a Roda de Cores da Adobe para criar uma paleta de cores harmoniosa. Escolha uma cor principal e duas cores secundárias para o seu site. Em seguida, aplique essas cores no arquivo style.css do seu projeto, usando a cor principal para o background-color e as cores secundárias para o color de dois tipos diferentes de texto (por exemplo, títulos e parágrafos)."
   ]
  },
  {
   "cell_type": "code",
   "execution_count": null,
   "id": "d1269092",
   "metadata": {
    "vscode": {
     "languageId": "css"
    }
   },
   "outputs": [],
   "source": [
    "body {\n",
    "    background-color: #F2F2F2;\n",
    "}\n",
    "h1 {\n",
    "    color: #D5B8D9;\n",
    "}\n",
    "p {\n",
    "    color: #745DA6;\n",
    "}"
   ]
  },
  {
   "cell_type": "markdown",
   "id": "0947e688",
   "metadata": {},
   "source": [
    "2. Você ficou responsável por corrigir um erro em um projeto web onde o texto não está visível devido a um problema de cor. O corpo da página está com background-color: #000000; e o color do texto foi definido como black, tornando-o invisível. Sua tarefa é corrigir esse erro alterando o valor de color para uma cor visível, como #F6F6F6 ou outra cor clara, garantindo a legibilidade do texto."
   ]
  },
  {
   "cell_type": "code",
   "execution_count": null,
   "id": "036fdea2",
   "metadata": {
    "vscode": {
     "languageId": "css"
    }
   },
   "outputs": [],
   "source": [
    "body {\n",
    "    background-color: #000000;\n",
    "    color: #F6F6F6;\n",
    "}"
   ]
  },
  {
   "cell_type": "markdown",
   "id": "960670e2",
   "metadata": {},
   "source": [
    "3. Vamos experimentar a representação de cores em RGB no CSS. Escolha duas cores que você goste, uma para o fundo (background-color) e outra para o texto (color). Use a notação hexadecimal RGB para definir essas cores no arquivo style.css. Por exemplo, você pode usar #FF5733 para uma cor laranja vibrante e #00FF00 para um verde brilhante. Aplique essas cores no corpo da sua página e veja como elas interagem."
   ]
  },
  {
   "cell_type": "code",
   "execution_count": null,
   "id": "2f9438ed",
   "metadata": {
    "vscode": {
     "languageId": "css"
    }
   },
   "outputs": [],
   "source": [
    "body {\n",
    "    background-color: #FF5733; /* Laranja */\n",
    "    color: #00FF00; /* Verde */\n",
    "}"
   ]
  }
 ],
 "metadata": {
  "language_info": {
   "name": "python"
  }
 },
 "nbformat": 4,
 "nbformat_minor": 5
}
