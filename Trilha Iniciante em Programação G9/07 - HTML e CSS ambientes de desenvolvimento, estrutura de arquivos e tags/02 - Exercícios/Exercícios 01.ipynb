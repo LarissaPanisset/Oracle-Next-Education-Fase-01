{
 "cells": [
  {
   "cell_type": "markdown",
   "id": "bfa89a07",
   "metadata": {},
   "source": [
    "**Resolução dos exercícios HTML e CSS**\n",
    "\n",
    "Esta lista é uma ferramenta dinâmica para aprender, reforçar e aprimorar habilidades práticas em programação e desenvolvimento web. Cada exercício é uma oportunidade de aplicar conhecimentos teóricos em cenários reais, preparando você não apenas para entender a tecnologia, mas para utilizá-la de maneira eficaz e criativa em seus próprios projetos ou no ambiente de trabalho."
   ]
  },
  {
   "cell_type": "markdown",
   "id": "00cf5774",
   "metadata": {},
   "source": [
    "1. Você acabou de iniciar um estágio em uma empresa de desenvolvimento web e sua primeira tarefa é criar um documento HTML básico para um novo projeto. O objetivo é construir a estrutura fundamental de um arquivo HTML, incluindo as tags essenciais: `<!DOCTYPE html>`, `<html>`, `<head>`, e `<body>`. Além disso, dentro da tag `<head>`, adicione uma tag `<title>` com um título de sua escolha para a página. Lembre-se de seguir as práticas de indentação corretas para manter o código organizado."
   ]
  },
  {
   "cell_type": "code",
   "execution_count": null,
   "id": "3c004cb0",
   "metadata": {
    "vscode": {
     "languageId": "javascript"
    }
   },
   "outputs": [],
   "source": [
    "<!DOCTYPE html>\n",
    "<html>\n",
    "    <head>\n",
    "        <title>Meu primeiro projeto</title>\n",
    "    </head>\n",
    "    <body>\n",
    "        <!-- Conteúdo da página vai aqui -->\n",
    "    </body>\n",
    "</html>"
   ]
  },
  {
   "cell_type": "markdown",
   "id": "bf6da8db",
   "metadata": {},
   "source": [
    "2. Agora que a estrutura básica do seu documento HTML está pronta, seu supervisor pediu para adicionar um cabeçalho e um parágrafo ao corpo do documento. Use as tags para o cabeçalho e para o parágrafo. Escolha um tema para o cabeçalho e escreva um breve parágrafo relacionado a esse tema."
   ]
  },
  {
   "cell_type": "code",
   "execution_count": null,
   "id": "f4cb3810",
   "metadata": {
    "vscode": {
     "languageId": "html"
    }
   },
   "outputs": [],
   "source": [
    "<!DOCTYPE html>\n",
    "<html>\n",
    "    <head>\n",
    "        <title>Meu primeiro projeto</title>\n",
    "    </head>\n",
    "    <body>\n",
    "        <h1>Boas-vindas ao meu site</h1>\n",
    "        <p>Este é um exemplo de um parágrafo em HTML.</p>\n",
    "    </body>\n",
    "</html>"
   ]
  },
  {
   "cell_type": "markdown",
   "id": "a57d9ead",
   "metadata": {},
   "source": [
    "3. Você precisa otimizar a seção <head> da página HTML existente. Adicione uma meta tag para definir a codificação de caracteres como UTF-8 e altere o título da página para algo mais descritivo e apropriado para o conteúdo do site."
   ]
  },
  {
   "cell_type": "code",
   "execution_count": null,
   "id": "18a94f04",
   "metadata": {
    "vscode": {
     "languageId": "html"
    }
   },
   "outputs": [],
   "source": [
    "<!DOCTYPE html>\n",
    "<html>\n",
    "    <head>\n",
    "        <meta charset=\"UTF-8\">\n",
    "        <title>Aventuras em HTML</title>\n",
    "    </head>\n",
    "    <body>\n",
    "        <h1>Boas-vindas ao meu site</h1>\n",
    "        <p>Este é um exemplo de um parágrafo em HTML.</p>\n",
    "    </body>\n",
    "</html>"
   ]
  },
  {
   "cell_type": "markdown",
   "id": "099a9894",
   "metadata": {},
   "source": [
    "4. Você está desenvolvendo a página inicial de um site para um projeto pessoal. Você precisa criar um título principal e um subtítulo, seguidos por um breve parágrafo explicativo. Utilize HTML para estruturar esses elementos. Crie um arquivo HTML e adicione um título principal , um subtítulo, e um parágrafo. Use textos de sua escolha para cada um destes. Lembre-se de seguir a hierarquia correta das tags e verificar o resultado no navegador."
   ]
  },
  {
   "cell_type": "code",
   "execution_count": null,
   "id": "bf8c6941",
   "metadata": {
    "vscode": {
     "languageId": "html"
    }
   },
   "outputs": [],
   "source": [
    "<!DOCTYPE html>\n",
    "<html>\n",
    "    <head>\n",
    "        <title>Meu projeto</title>\n",
    "    </head>\n",
    "    <body>\n",
    "        <h1>Meu projeto pessoal</h1>\n",
    "        <h2>Uma breve introdução</h2>\n",
    "        <p>Este é um projeto que visa...</p>\n",
    "    </body>\n",
    "</html>"
   ]
  },
  {
   "cell_type": "markdown",
   "id": "2b2c2472",
   "metadata": {},
   "source": [
    "5. Neste desafio, você vai adicionar uma imagem ao seu projeto de site pessoal. Escolha uma imagem de sua preferência (pode ser um logo ou uma foto relacionada ao tema do site). Utilize a tag <img> para inserir a imagem no corpo do documento HTML, e não se esqueça de incluir o atributo alt para descrever a imagem, melhorando a acessibilidade do site. Verifique o resultado no navegador."
   ]
  },
  {
   "cell_type": "code",
   "execution_count": null,
   "id": "dd9192b5",
   "metadata": {
    "vscode": {
     "languageId": "html"
    }
   },
   "outputs": [],
   "source": [
    "<!DOCTYPE html>\n",
    "<html>\n",
    "    <head>\n",
    "        <title>Meu projeto</title>\n",
    "    </head>\n",
    "    <body>\n",
    "        <h1>Meu projeto pessoal</h1>\n",
    "        <h2>Uma breve introdução</h2>\n",
    "        <p>Este é um projeto que visa...</p>\n",
    "        <img src=\"imagem.jpg\" alt=\"Descrição da imagem\">\n",
    "    </body>\n",
    "</html>"
   ]
  },
  {
   "cell_type": "markdown",
   "id": "18919e99",
   "metadata": {},
   "source": [
    "6. Agora, adicione uma lista de itens ao seu site. Esta lista pode ser de características do projeto, etapas de desenvolvimento, ou qualquer outra informação relevante."
   ]
  },
  {
   "cell_type": "code",
   "execution_count": null,
   "id": "874e80b7",
   "metadata": {
    "vscode": {
     "languageId": "html"
    }
   },
   "outputs": [],
   "source": [
    "<!DOCTYPE html>\n",
    "<html>\n",
    "    <head>\n",
    "        <title>Meu projeto</title>\n",
    "    </head>\n",
    "    <body>\n",
    "        <h1>Meu projeto pessoal</h1>\n",
    "        <h2>Uma breve introdução</h2>\n",
    "        <p>Este é um projeto que visa...</p>\n",
    "        <img src=\"imagem.jpg\" alt=\"Descrição da imagem\">\n",
    "        <ul>\n",
    "            <li>Característica 1</li>\n",
    "            <li>Característica 2</li>\n",
    "            <li>Característica 3</li>\n",
    "        </ul>\n",
    "    </body>\n",
    "</html>"
   ]
  },
  {
   "cell_type": "markdown",
   "id": "31b5c607",
   "metadata": {},
   "source": [
    "7. A sua tarefa é explorar o impacto da declaração <!DOCTYPE html> em um documento HTML. Crie um arquivo HTML básico. "
   ]
  },
  {
   "cell_type": "code",
   "execution_count": null,
   "id": "71cb4871",
   "metadata": {
    "vscode": {
     "languageId": "html"
    }
   },
   "outputs": [],
   "source": [
    "- Crie um arquivo HTML e adicione a estrutura básica com a declaração <!DOCTYPE html>.\n",
    "- Visualize a página no navegador e observe sua aparência.\n",
    "- Remova a declaração <!DOCTYPE html> e visualize a página novamente.\n",
    "- Abra a ferramenta de inspeção do navegador e verifique se o \"Modo Quirks\" \n",
    "foi ativado, observando as diferenças de renderização.\n",
    "- Adicione novamente a declaração <!DOCTYPE html> e note as mudanças no modo de renderização da página ao atualizar"
   ]
  },
  {
   "cell_type": "markdown",
   "id": "1416812f",
   "metadata": {},
   "source": [
    "8. Instale e utilize a extensão \"Live Server\" no Visual Studio Code para automatizar a atualização da sua página HTML. Faça alterações no código HTML, como adicionar um texto ao parágrafo, e observe as mudanças sendo refletidas automaticamente no navegador."
   ]
  },
  {
   "cell_type": "code",
   "execution_count": null,
   "id": "0c7019c6",
   "metadata": {
    "vscode": {
     "languageId": "html"
    }
   },
   "outputs": [],
   "source": [
    "- Abra o VS Code e acesse a seção \"Extensions\".\n",
    "- Pesquise por \"Live Server\" e instale a extensão.\n",
    "- Abra seu arquivo HTML e clique em \"Go Live\" na barra inferior do VS Code.\n",
    "- Faça uma alteração no código, como adicionar uma palavra ao parágrafo.\n",
    "- Observe a atualização automática na página do navegador, sem a necessidade de recarregar manualmente."
   ]
  }
 ],
 "metadata": {
  "language_info": {
   "name": "python"
  }
 },
 "nbformat": 4,
 "nbformat_minor": 5
}
