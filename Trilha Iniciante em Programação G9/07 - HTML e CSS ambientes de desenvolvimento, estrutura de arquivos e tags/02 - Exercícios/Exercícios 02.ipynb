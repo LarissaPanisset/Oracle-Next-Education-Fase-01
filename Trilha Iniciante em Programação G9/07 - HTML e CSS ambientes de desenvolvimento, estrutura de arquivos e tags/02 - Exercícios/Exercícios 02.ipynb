{
 "cells": [
  {
   "cell_type": "markdown",
   "id": "339b0ef9",
   "metadata": {},
   "source": [
    "**Resolução dos exercícios**"
   ]
  },
  {
   "cell_type": "markdown",
   "id": "08be7750",
   "metadata": {
    "vscode": {
     "languageId": "javascript"
    }
   },
   "source": [
    "1. Você acaba de receber um layout de uma página de portfólio da sua designer. O desafio é transformar esse design em uma página web funcional. Utilizando HTML, crie a estrutura básica da página. Lembre-se de incluir os elementos principais: um título principal, um subtítulo, dois botões (Instagram e Github), e um espaço para a imagem da desenvolvedora. Sinta-se livre para personalizar o texto e a imagem para adaptá-los ao seu portfólio pessoal."
   ]
  },
  {
   "cell_type": "code",
   "execution_count": null,
   "id": "e3f4f9a2",
   "metadata": {
    "vscode": {
     "languageId": "html"
    }
   },
   "outputs": [],
   "source": [
    "<!DOCTYPE html>\n",
    "<html lang=\"en\">\n",
    "<head>\n",
    "    <meta charset=\"UTF-8\">\n",
    "    <meta name=\"viewport\" content=\"width=device-width, initial-scale=1.0\">\n",
    "    <title>PORTFÓLIO</title>\n",
    "</head>\n",
    "<body>\n",
    "    <div>\n",
    "        <h1>Prazer, Larissa Panisset!</h1>\n",
    "        <p>Analista de dados</p>\n",
    "        <button>Instagram</button>\n",
    "        <button>Github</button>\n",
    "        <img src=\"minha-foto.jpg\" alt=\"Analista\">\n",
    "    </div>\n",
    "</body>\n",
    "</html>"
   ]
  },
  {
   "cell_type": "markdown",
   "id": "34df7b52",
   "metadata": {},
   "source": [
    "2. Agora que você entende a importância das tags semânticas no HTML, é hora de aplicar esse conhecimento. Utilize as tags header, main, e footer para estruturar sua página de portfólio. No header, insira um menu ou um logotipo. No main, adicione os elementos do portfólio como título, parágrafo, botões e imagem. Por fim, no footer, coloque informações como contato ou direitos autorais. Lembre-se de que cada elemento deve ser colocado de forma lógica e estruturada para criar um site acessível e bem organizado."
   ]
  },
  {
   "cell_type": "code",
   "execution_count": null,
   "id": "5bc031e9",
   "metadata": {
    "vscode": {
     "languageId": "html"
    }
   },
   "outputs": [],
   "source": [
    "<!DOCTYPE html>\n",
    "<html lang=\"pt-br\">\n",
    "<head>\n",
    "    <title>Meu Portfólio</title>\n",
    "</head>\n",
    "<body>\n",
    "    <header>\n",
    "        <!-- Menu ou Logotipo -->\n",
    "    </header>\n",
    "    <main>\n",
    "        <h1>Título do Portfólio</h1>\n",
    "        <p>Descrição</p>\n",
    "        <!-- Botões e Imagem -->\n",
    "    </main>\n",
    "    <footer>\n",
    "        <!-- Informações de Contato ou Direitos Autorais -->\n",
    "    </footer>\n",
    "</body>\n",
    "</html>"
   ]
  },
  {
   "cell_type": "markdown",
   "id": "384e2a1b",
   "metadata": {},
   "source": [
    "3. Explore o uso das tags meta no cabeçalho do seu HTML. Altere a tag lang para \"pt-br\", ajuste o charset para \"UTF-8\", adicione a tag meta para compatibilidade com o Edge e outra para configuração do viewport. Por fim, mude o título da sua página para algo relacionado ao seu projeto, por exemplo, \"Portfólio de [Seu Nome]\". Entenda como cada uma dessas mudanças afeta a funcionalidade e a acessibilidade do seu site."
   ]
  },
  {
   "cell_type": "code",
   "execution_count": null,
   "id": "ac4a2992",
   "metadata": {
    "vscode": {
     "languageId": "html"
    }
   },
   "outputs": [],
   "source": [
    "<!DOCTYPE html>\n",
    "<html lang=\"pt-br\">\n",
    "<head>\n",
    "    <meta charset=\"UTF-8\">\n",
    "    <meta http-equiv=\"X-UA-Compatible\" content=\"IE=edge\">\n",
    "    <meta name=\"viewport\" content=\"width=device-width, initial-scale=1.0\">\n",
    "    <title>Portfólio de Larissa</title>\n",
    "</head>\n",
    "<body>\n",
    "    <!-- Estrutura da página -->\n",
    "</body>\n",
    "</html>"
   ]
  },
  {
   "cell_type": "markdown",
   "id": "655c2f61",
   "metadata": {},
   "source": [
    "4. Agora que você já tem uma base sólida sobre a estrutura HTML, vamos adicionar e formatar elementos na sua página de portfólio. Siga o layout do Figma e comece adicionando um título com um destaque em uma parte dele. Em seguida, insira um parágrafo com uma breve introdução sobre você ou sua empresa. Finalmente, adicione links para suas redes sociais ou portfólios online, como Instagram e GitHub. Certifique-se de que cada elemento esteja corretamente formatado e colocado conforme o design do Figma."
   ]
  },
  {
   "cell_type": "code",
   "execution_count": null,
   "id": "784ca6da",
   "metadata": {
    "vscode": {
     "languageId": "html"
    }
   },
   "outputs": [],
   "source": [
    "<h1>Eleve seu negócio digital a outro nível <strong>com uma analista de dados de qualidade!</strong></h1>\n",
    "<p>Olá! Sou Larissa Panisset, analista de dados. Ajudo empresas a analisar seus dados. Vamos conversar?</p>\n",
    "<a href=\"https://instagram.com/larissapps\">Instagram</a>\n",
    "<a href=\"https://github.com/LarissaPanisset\">Github</a>"
   ]
  },
  {
   "cell_type": "markdown",
   "id": "b8dba512",
   "metadata": {},
   "source": [
    "5. Chegou a hora de dar um toque visual à sua página! Escolha uma imagem que represente você ou seu trabalho e adicione-a à sua página de portfólio usando a tag <img>. Lembre-se de incluir a propriedade src com o caminho para a imagem e alt com uma descrição adequada da imagem. Isso não apenas melhora a acessibilidade do seu site, mas também ajuda os motores de busca a entenderem o conteúdo da imagem."
   ]
  },
  {
   "cell_type": "code",
   "execution_count": null,
   "id": "f2041d86",
   "metadata": {
    "vscode": {
     "languageId": "html"
    }
   },
   "outputs": [],
   "source": [
    "<img src=\"minha-foto.jpg\" alt=\"Minha foto\">"
   ]
  }
 ],
 "metadata": {
  "kernelspec": {
   "display_name": "Python 3",
   "language": "python",
   "name": "python3"
  },
  "language_info": {
   "name": "python",
   "version": "3.13.5"
  }
 },
 "nbformat": 4,
 "nbformat_minor": 5
}
