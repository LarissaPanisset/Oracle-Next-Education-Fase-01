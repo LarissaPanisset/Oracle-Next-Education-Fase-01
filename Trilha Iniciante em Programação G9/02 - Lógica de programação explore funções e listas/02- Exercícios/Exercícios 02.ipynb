{
 "cells": [
  {
   "cell_type": "markdown",
   "id": "339b0ef9",
   "metadata": {},
   "source": [
    "**Resolução dos exercícios do curso de lógica de programação**\n",
    "\n",
    "Saber como usar funções é um dos conceitos fundamentais da programação e do desenvolvimento de software. As funções desempenham um papel crucial na organização, modularização e reutilização de código. Bora praticar então?"
   ]
  },
  {
   "cell_type": "markdown",
   "id": "08be7750",
   "metadata": {
    "vscode": {
     "languageId": "javascript"
    }
   },
   "source": [
    "1. Criar uma função que exibe \"Olá, mundo!\" no console."
   ]
  },
  {
   "cell_type": "code",
   "execution_count": null,
   "id": "e3f4f9a2",
   "metadata": {
    "vscode": {
     "languageId": "javascript"
    }
   },
   "outputs": [],
   "source": [
    "function saudação() {\n",
    "  console.log('Olá, mundo!');\n",
    "}\n",
    "\n",
    "saudação()"
   ]
  },
  {
   "cell_type": "markdown",
   "id": "34df7b52",
   "metadata": {},
   "source": [
    "2. Criar uma função que recebe um nome como parâmetro e exibe \"Olá, [nome]!\" no console."
   ]
  },
  {
   "cell_type": "code",
   "execution_count": null,
   "id": "5bc031e9",
   "metadata": {
    "vscode": {
     "languageId": "javascript"
    }
   },
   "outputs": [],
   "source": [
    "function saudação(nome) {\n",
    "  console.log('Olá' + nome + '!');\n",
    "}\n",
    "\n",
    "saudação(\"alice\");"
   ]
  },
  {
   "cell_type": "markdown",
   "id": "384e2a1b",
   "metadata": {},
   "source": [
    "3. Criar uma função que recebe um número como parâmetro e retorna o dobro desse número."
   ]
  },
  {
   "cell_type": "code",
   "execution_count": null,
   "id": "ac4a2992",
   "metadata": {
    "vscode": {
     "languageId": "javascript"
    }
   },
   "outputs": [],
   "source": [
    "function calculo(numero) {\n",
    "  return numero * 2 ;\n",
    "}\n",
    "\n",
    "let resultadoDobro = calculo(5);\n",
    "console.log(resultadoDobro);"
   ]
  },
  {
   "cell_type": "markdown",
   "id": "655c2f61",
   "metadata": {},
   "source": [
    "4. Criar uma função que recebe três números como parâmetros e retorna a média deles."
   ]
  },
  {
   "cell_type": "code",
   "execution_count": null,
   "id": "784ca6da",
   "metadata": {
    "vscode": {
     "languageId": "javascript"
    }
   },
   "outputs": [],
   "source": [
    "function somaEmedia(numero1, numero2,numero3) {\n",
    "  return ((numero1 + numero2 + numero3) / 3);\n",
    "}\n",
    "\n",
    "let media = somaEmedia(4, 7, 10);\n",
    "console.log(media);"
   ]
  },
  {
   "cell_type": "markdown",
   "id": "b8dba512",
   "metadata": {},
   "source": [
    "5. Criar uma função que recebe dois números como parâmetros e retorna o maior deles."
   ]
  },
  {
   "cell_type": "code",
   "execution_count": null,
   "id": "f2041d86",
   "metadata": {
    "vscode": {
     "languageId": "javascript"
    }
   },
   "outputs": [],
   "source": [
    "function encontrarMaior(a, b) {\n",
    "  return a > b ? a : b;\n",
    "}\n",
    "\n",
    "let maiorNumero = encontrarMaior(15, 9);\n",
    "console.log(maiorNumero);"
   ]
  },
  {
   "cell_type": "markdown",
   "id": "1bfb37cb",
   "metadata": {},
   "source": [
    "6. Criar uma função que recebe um número como parâmetro e retorna o resultado da multiplicação desse número por ele mesmo"
   ]
  },
  {
   "cell_type": "code",
   "execution_count": null,
   "id": "8129b138",
   "metadata": {
    "vscode": {
     "languageId": "javascript"
    }
   },
   "outputs": [],
   "source": [
    "function dobro(numero1) {\n",
    "  return numero1 * numero1;\n",
    "}\n",
    "\n",
    "let resultado = dobro(2);\n",
    "console.log(resultado);"
   ]
  }
 ],
 "metadata": {
  "kernelspec": {
   "display_name": "Python 3",
   "language": "python",
   "name": "python3"
  },
  "language_info": {
   "name": "python",
   "version": "3.13.5"
  }
 },
 "nbformat": 4,
 "nbformat_minor": 5
}
