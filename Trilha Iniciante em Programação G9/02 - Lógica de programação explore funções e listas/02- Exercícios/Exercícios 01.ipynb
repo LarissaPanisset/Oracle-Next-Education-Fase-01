{
 "cells": [
  {
   "cell_type": "markdown",
   "id": "bfa89a07",
   "metadata": {},
   "source": [
    "**Resolução dos exercícios do curso de lógica de programação**\n",
    "\n",
    "Em uma carreira de desenvolvimento de software, a prática consistente da lógica de programação desempenha um papel fundamental na construção de bases sólidas.\n",
    "\n",
    "A lógica de programação não apenas permite a criação de algoritmos eficientes e soluções elegantes, mas também desenvolve a capacidade de pensar de forma estruturada e analítica.Essa habilidade é essencial para enfrentar desafios complexos e transformar problemas abstratos em implementações tangíveis.\n",
    "\n",
    "Pensando nisso, criamos uma lista de atividades (não obrigatórias) focada em prática para melhorar ainda mais sua experiência de aprendizagem. Bora praticar então?"
   ]
  },
  {
   "cell_type": "markdown",
   "id": "00cf5774",
   "metadata": {},
   "source": [
    "1. Altere o conteúdo da tag h1 com document.querySelector e atribua o seguinte texto: Hora do Desafio."
   ]
  },
  {
   "cell_type": "code",
   "execution_count": null,
   "id": "3c004cb0",
   "metadata": {
    "vscode": {
     "languageId": "javascript"
    }
   },
   "outputs": [],
   "source": [
    "let titulo = document.querySelector('h1');\n",
    "titulo.innerHTML = 'Hora do Desafio';"
   ]
  },
  {
   "cell_type": "markdown",
   "id": "bf6da8db",
   "metadata": {},
   "source": [
    "2. Crie uma função que exiba no console a mensagem O botão foi clicado sempre que o botão Console for pressionado."
   ]
  },
  {
   "cell_type": "code",
   "execution_count": null,
   "id": "f4cb3810",
   "metadata": {
    "vscode": {
     "languageId": "javascript"
    }
   },
   "outputs": [],
   "source": [
    "function cliqueConsole() {\n",
    "  console.log('O botão foi clicado');\n",
    "}"
   ]
  },
  {
   "cell_type": "markdown",
   "id": "a57d9ead",
   "metadata": {},
   "source": [
    "3. Crie uma função que exiba um alerta com a mensagem: Eu amo JS, sempre que o botão Alerta for pressionado."
   ]
  },
  {
   "cell_type": "code",
   "execution_count": null,
   "id": "18a94f04",
   "metadata": {
    "vscode": {
     "languageId": "javascript"
    }
   },
   "outputs": [],
   "source": [
    "function cliqueAlert() {\n",
    "    alert('Eu amo JS');\n",
    "}"
   ]
  },
  {
   "cell_type": "markdown",
   "id": "099a9894",
   "metadata": {},
   "source": [
    "4. Crie uma função que é executada quando o botão prompt é clicado, perguntando o nome de uma cidade do Brasil. Em seguida, exiba um alerta com a mensagem concatenando a resposta com o texto: Estive em {cidade} e lembrei de você."
   ]
  },
  {
   "cell_type": "code",
   "execution_count": null,
   "id": "bf8c6941",
   "metadata": {
    "vscode": {
     "languageId": "javascript"
    }
   },
   "outputs": [],
   "source": [
    "function cliquePrompt() {\n",
    "    let cidade = prompt('Digite o nome de uma cidade do Brasil');\n",
    "    alert(`Estive em ${cidade} e lembrei de você`);\n",
    "}"
   ]
  },
  {
   "cell_type": "markdown",
   "id": "2b2c2472",
   "metadata": {},
   "source": [
    "5. Ao clicar no botão soma, peça 2 números inteiros e exiba o resultado da soma em um alerta."
   ]
  },
  {
   "cell_type": "code",
   "execution_count": null,
   "id": "dd9192b5",
   "metadata": {
    "vscode": {
     "languageId": "javascript"
    }
   },
   "outputs": [],
   "source": [
    "function cliqueSoma() {\n",
    "    let numero1 = parseInt(prompt('Digite 1 número inteiro'));\n",
    "    let numero2 = parseInt(prompt('Agora digite mais 1 número inteiro'));\n",
    "    let soma = numero1 + numero2\n",
    "    alert(`A soma de ${numero1} + ${numero2} é igual a ${soma}`);\n",
    "}"
   ]
  }
 ],
 "metadata": {
  "language_info": {
   "name": "python"
  }
 },
 "nbformat": 4,
 "nbformat_minor": 5
}
