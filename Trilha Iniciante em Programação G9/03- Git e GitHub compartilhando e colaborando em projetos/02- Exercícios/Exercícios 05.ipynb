{
 "cells": [
  {
   "cell_type": "markdown",
   "id": "372389c0",
   "metadata": {},
   "source": [
    "**Resolução dos exercícios do curso de Git e GitHub**\n",
    "\n",
    "Ao realizar esta sequência de exercícios não obrigatórios, você não apenas aprimora suas habilidades técnicas no Git, mas também desenvolve uma compreensão profunda de como otimizar seus repositórios para uma colaboração eficaz. Prepare-se para um mundo onde a organização do seu código é tão essencial quanto a sua funcionalidade!"
   ]
  },
  {
   "cell_type": "markdown",
   "id": "4bbfeeac",
   "metadata": {},
   "source": [
    "1. Criar um README.md para Documentação do Projeto\n",
    "\n",
    "- Na raiz do seu projeto, crie um arquivo chamado README.md. Você pode fazer isso manualmente ou usando um comando no terminal, dependendo do seu ambiente.\n",
    "- Edite o README.md: Utilize o formato Markdown para estruturar e formatar seu README. Inclua informações como uma breve descrição do projeto, instruções de instalação, exemplos de uso, entre outras informações relevantes.\n",
    "- Atualizar as alterações: Faça um commit das alterações no README.md e envie para o repositório remoto no GitHub."
   ]
  },
  {
   "cell_type": "markdown",
   "id": "605ff278",
   "metadata": {},
   "source": [
    "2. Criar um Arquivo .txt com os Logs de Commits\n",
    "\n",
    "- Execute o Comando git log para ver os registros de commits\n",
    "- No terminal, execute: git log > logs.txt para criar um arquivo chamado logs.txt contendo os logs de commits"
   ]
  },
  {
   "cell_type": "markdown",
   "id": "95aad188",
   "metadata": {},
   "source": [
    "3. Ignorar o Arquivo de Logs Durante a Sincronização\n",
    "\n",
    "- Criar um arquivo .gitignore:\n",
    "- Se ainda não tiver, crie um arquivo chamado .gitignore na raiz do seu projeto.\n",
    "- Adicionar a entrada para o Arquivo de Logs no .gitignore: Dentro do .gitignore, adicione uma linha com o nome do arquivo de logs (logs.txt). Isso garantirá que o Git ignore esse arquivo durante a sincronização.\n",
    "- Commit e Push: Faça um commit das alterações no .gitignore e envie para o repositório remoto."
   ]
  },
  {
   "cell_type": "markdown",
   "id": "64ae02a2",
   "metadata": {},
   "source": [
    "4. Criar um README.md para o seu Perfil do GitHub\n",
    "\n",
    "- Este é um desafio diferente do anterior, pois é uma forma de criar uma apresentação para o seu perfil no Github, vamos realizá-lo?\n",
    "- Você também pode seguir as orientações no artigo “Como criar um readme para seu perfil no github”\n",
    "- No GitHub, crie um repositório com o mesmo nome do seu nome de usuário.\n",
    "- Dentro desse repositório, crie um arquivo README.md para documentar quem você é, suas habilidades, projetos favoritos, ou qualquer outra informação que deseje compartilhar.\n",
    "- Personalizar o README: Utilize Markdown para formatar e personalizar seu README. Adicione links, imagens e qualquer coisa que represente você da melhor forma.\n",
    "- Salvar as alterações com Commit e Push: Faça um commit das alterações no README.md do seu perfil e envie para o repositório remoto."
   ]
  }
 ],
 "metadata": {
  "language_info": {
   "name": "python"
  }
 },
 "nbformat": 4,
 "nbformat_minor": 5
}
