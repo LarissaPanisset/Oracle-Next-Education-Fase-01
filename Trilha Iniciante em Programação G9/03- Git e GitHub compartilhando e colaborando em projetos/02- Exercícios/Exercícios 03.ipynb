{
 "cells": [
  {
   "cell_type": "markdown",
   "id": "cc8c1f81",
   "metadata": {},
   "source": [
    "**Resolução dos exercícios do curso de Git e GitHub**\n",
    "\n",
    "Conflitos em diferentes versões no código é algo comum no cotidiano da pessoa desenvolvedora e é essencial saber como resolver quando esses conflitos aparecem. A ideia do próximo desafio é gerar e resolver um conflito entre um repositório remoto e local, vamos praticar com os desafios não obrigatórios?"
   ]
  },
  {
   "cell_type": "markdown",
   "id": "b251aff1",
   "metadata": {},
   "source": [
    "1. Criar um Novo Repositório Local\n",
    "\n",
    "- Abra o terminal.\n",
    "- Navegue até o diretório onde deseja criar o novo repositório.\n",
    "- Execute git init para inicializar um novo repositório."
   ]
  },
  {
   "cell_type": "markdown",
   "id": "00166ceb",
   "metadata": {},
   "source": [
    "2. Adicionar o Repositório Remoto Criado Anteriormente\n",
    "\n",
    "- Execute git remote add <nome-remoto> <url-do-repositorio-remoto> para adicionar o repositório remoto ao seu local."
   ]
  },
  {
   "cell_type": "markdown",
   "id": "810ee297",
   "metadata": {},
   "source": [
    "3. Faça uma Alteração no Repositório Local e Envie para o Remoto\n",
    "\n",
    "- Abra um arquivo existente ou crie um novo no seu repositório local.\n",
    "- Faça as alterações desejadas.\n",
    "- Execute git add . para adicionar as alterações.\n",
    "- Em seguida, execute git commit -m \"Alteração no repositório local\" para realizar o commit.\n",
    "- Utilize git push <nome-remoto> main para enviar as alterações para o repositório remoto."
   ]
  },
  {
   "cell_type": "markdown",
   "id": "267a7c50",
   "metadata": {},
   "source": [
    "4. Resolvendo Conflitos Manualmente\n",
    "\n",
    "- No GitHub, faça uma alteração no mesmo arquivo que foi modificado localmente.\n",
    "- Execute git pull <nome-remoto> main no seu terminal para trazer as alterações remotas.\n",
    "- O Git indicará um conflito. Abra o arquivo afetado e resolva manualmente, escolhendo quais alterações manterá."
   ]
  },
  {
   "cell_type": "markdown",
   "id": "2a05ac3f",
   "metadata": {},
   "source": [
    "5. Realize um Commit para Registrar a Resolução do Conflito\n",
    "\n",
    "- Após resolver manualmente, execute git add . para adicionar as alterações ao staged area.\n",
    "- Em seguida, execute git commit -m \"Resolver conflito manualmente de ‘descrição do conflito’\" para registrar a resolução do conflito."
   ]
  },
  {
   "cell_type": "markdown",
   "id": "5bbe544f",
   "metadata": {},
   "source": [
    "6. Verifique Quais Arquivos Foram Adicionados\n",
    "\n",
    "- Execute git status para verificar se há alterações pendentes.\n",
    "- Se quiser ver as diferenças, utilize git diff.\n",
    "- Conheça mais sobre o comando git diff na documentação git diff"
   ]
  },
  {
   "cell_type": "markdown",
   "id": "d09702aa",
   "metadata": {},
   "source": [
    "7. Sincronize o Repositório Local com o Repositório Remoto no GitHub\n",
    "\n",
    "- Execute git push <nome-remoto> main para enviar as alterações, incluindo a resolução de conflitos, para o repositório remoto no GitHub.\n",
    "- Verifique o histórico de commits no GitHub e confirme que o conflito foi resolvido corretamente."
   ]
  }
 ],
 "metadata": {
  "language_info": {
   "name": "python"
  }
 },
 "nbformat": 4,
 "nbformat_minor": 5
}
