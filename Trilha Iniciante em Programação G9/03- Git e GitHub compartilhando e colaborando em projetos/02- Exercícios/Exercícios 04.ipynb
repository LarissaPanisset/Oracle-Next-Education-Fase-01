{
 "cells": [
  {
   "cell_type": "markdown",
   "id": "dd97a19e",
   "metadata": {},
   "source": [
    "**Resolução dos exercícios do curso de Git e GitHub**\n",
    "\n",
    "Domine o Controle de Versão com estes desafios práticos! De visualizar e modificar commits a sincronizar com repositórios remotos, estes exercícios não obrigatórios proporcionarão uma experiência prática para fortalecer sua compreensão do Git."
   ]
  },
  {
   "cell_type": "markdown",
   "id": "84c32caa",
   "metadata": {},
   "source": [
    "1. Veja todos os commits realizados\n",
    "\n",
    "- Para visualizar todos os commits realizados em um repositório Git, você pode usar o comando git log. Este comando exibe o histórico de commits, mostrando informações como o hash do commit, autor, data, e mensagem do commit. Aqui estão algumas variações do comando git log que podem ser úteis:\n",
    "\n",
    "- Para exibir o histórico completo: git log\n",
    "- Exibir Alterações Detalhadas: git log -p\n",
    "- Exibir Apenas Mensagens de Commit: git log --oneline"
   ]
  },
  {
   "cell_type": "markdown",
   "id": "5be7c8d7",
   "metadata": {},
   "source": [
    "2. Modificar o Último Commit com git commit --amend:\n",
    "\n",
    "- Faça um commit com algumas alterações no seu código.\n",
    "- Perceba que esqueceu de incluir algumas modificações.\n",
    "- Para adicionar as modificações esquecidas ao último commit, sem criar um novo commit, utilize o comando: git commit --amend"
   ]
  },
  {
   "cell_type": "markdown",
   "id": "65445870",
   "metadata": {},
   "source": [
    "3. Reverter Mudanças de um Commit com Git Revert:\n",
    "\n",
    "- Crie um novo arquivo no seu repositório.\n",
    "- Realize um commit adicionando esse novo arquivo.\n",
    "- Para reverter automaticamente as mudanças feitas no último commit sem excluir o histórico: git revert <hash-do-commit>\n",
    "- Se você precisar reverter uma série de commits, pode utilizar o seguinte comando: git revert -n <hash-do-ultimo-commit-a-manter>\n",
    "- Lembre-se que após reverter, é necessário realizar um novo commit para aplicar a reversão ao repositório\n",
    "\n",
    "Lembre-se de que o git revert é uma maneira segura e não destrutiva de desfazer alterações, pois não reescreve o histórico existente. Ele é particularmente útil em ambientes de trabalho compartilhados, onde reescrever o histórico pode causar problemas para outros colaboradores."
   ]
  },
  {
   "cell_type": "markdown",
   "id": "06af752b",
   "metadata": {},
   "source": [
    "4. Apagar um Commit com Git Reset:\n",
    "\n",
    "- Faça uma série de commits com alterações no seu código.\n",
    "- Escolha um commit específico que deseja excluir.\n",
    "- Use para apagar o commit selecionado, desfazendo automaticamente as mudanças no código: git reset --hard <hash-do-ultimo-commit-a-manter>\n",
    "- Se você apenas deseja desfazer commits, mas manter as alterações no diretório de trabalho, você pode usar git reset --soft.\n",
    "\n",
    "Observação: No cotidiano de trabalho em desenvolvimento, a escolha entre reset e revert deve ser tomada com base nas necessidades específicas do seu projeto e na colaboração com as outras pessoas desenvolvedoras. Se você deseja desfazer alterações em um commit específico sem reescrever o histórico, git revert é uma escolha mais segura. Se você precisa reverter completamente para um estado anterior, git reset pode ser apropriado, mas use-o com cautela, especialmente em branches compartilhadas."
   ]
  },
  {
   "cell_type": "markdown",
   "id": "becc3df3",
   "metadata": {},
   "source": [
    "5. Sincronize as modificações com o repositório remoto\n",
    "\n",
    "- Execute o comando: git push"
   ]
  },
  {
   "cell_type": "markdown",
   "id": "b79bb185",
   "metadata": {},
   "source": [
    "6. Analise as mensagens de commits realizados e faça as alterações de acordo com as boas práticas:\n",
    "\n",
    "- Para visualizar todo o histórico de commits, execute o comando: git log\n",
    "- Leia a documentação da Conventional Commits para elaborar as mensagens de commits de acordo com as boas práticas\n",
    "- Reescreva os commits utilizando os comandos já aprendidos: git commit –amendou git revert."
   ]
  }
 ],
 "metadata": {
  "language_info": {
   "name": "python"
  }
 },
 "nbformat": 4,
 "nbformat_minor": 5
}
