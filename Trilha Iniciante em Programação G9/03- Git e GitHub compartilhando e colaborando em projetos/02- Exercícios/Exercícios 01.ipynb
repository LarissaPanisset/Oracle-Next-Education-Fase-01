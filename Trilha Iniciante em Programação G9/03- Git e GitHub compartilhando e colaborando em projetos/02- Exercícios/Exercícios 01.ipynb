{
 "cells": [
  {
   "cell_type": "markdown",
   "id": "132b32b4",
   "metadata": {},
   "source": [
    "**Resolução dos exercícios do curso de Git e GitHub**\n",
    "\n",
    "O Git é uma ferramenta excelente para acompanhar a mudança entre versões de um mesmo projeto e, dentre vários benefícios, nos ajuda a observar de perto o desenvolvimento do seu aprendizado. Tudo isso de uma forma organizada através dos commits.\n",
    "\n",
    "Além disso, algo que é essencial no universo da tecnologia é apresentar o seu progresso para a comunidade e montar um portfólio dos seus projetos para demonstrar suas habilidades. Dessa forma, o GitHub é essencial para compartilhar e colaborar em projetos de programação de todo o mundo.\n",
    "\n",
    "Pensando nisso, criamos uma lista de atividades (não obrigatórias) focada em prática para melhorar ainda mais sua experiência de aprendizagem. Bora praticar então?"
   ]
  },
  {
   "cell_type": "markdown",
   "id": "f0ae8001",
   "metadata": {},
   "source": [
    "1. Crie uma conta no GitHub:\n",
    "\n",
    "- Seguir os passos mostrados no vídeo, preenchendo o formulário de cadastro, verificando sua conta e explorando a página inicial do GitHub.\n"
   ]
  },
  {
   "cell_type": "markdown",
   "id": "bccad78b",
   "metadata": {},
   "source": [
    "2. Crie um repositório para um projeto pessoal.\n",
    "\n",
    "- Seguir passos mencionados na aula, como acessar as configurações do GitHub, criar um novo repositório com um nome único e escolher se ele será público ou privado. Em seguida, você pode adicionar uma descrição, um README, um .gitignore e uma licença ao repositório."
   ]
  },
  {
   "cell_type": "markdown",
   "id": "54734edb",
   "metadata": {},
   "source": [
    "3. Faça a instalação do Git\n",
    "\n",
    "- Seguir os passos na atividade Faça como eu fiz: instalação do Git"
   ]
  },
  {
   "cell_type": "markdown",
   "id": "91f6a317",
   "metadata": {},
   "source": [
    "4. Crie um repositório localmente para o seu projeto pessoal\n",
    "\n",
    "- Digite o seguinte comando no terminal: git init"
   ]
  },
  {
   "cell_type": "markdown",
   "id": "c4874824",
   "metadata": {},
   "source": [
    "5. Adicione alguns arquivos no seu repositório local\n",
    "\n",
    "- Digite no terminal o comando: git add ."
   ]
  },
  {
   "cell_type": "markdown",
   "id": "f7ee87b0",
   "metadata": {},
   "source": [
    "6. Faça o commit das alterações\n",
    "\n",
    "- Digite no terminal o comando: git commit -m \"mensagem de commit\""
   ]
  },
  {
   "cell_type": "markdown",
   "id": "d872fc37",
   "metadata": {},
   "source": [
    "7. Configure a identidade do autor do commit."
   ]
  },
  {
   "cell_type": "code",
   "execution_count": null,
   "id": "30704709",
   "metadata": {
    "vscode": {
     "languageId": "javascript"
    }
   },
   "outputs": [],
   "source": [
    "git config --global user.email \"seuemailaqui@example.com\"\n",
    "git config --global user.name \"seu nome aqui\""
   ]
  },
  {
   "cell_type": "markdown",
   "id": "5b8c40d6",
   "metadata": {},
   "source": [
    "8. Crie a branch Main\n",
    "\n",
    "- Digite no terminal o comando: git branch -M main O comando git branch -m é usado para criar uma nova ramificação no repositório Git atual. Neste caso, criamos a branch padrão main, que representa a versão principal do código."
   ]
  },
  {
   "cell_type": "markdown",
   "id": "faaa59ec",
   "metadata": {},
   "source": [
    "9. Realize a conexão do seu repositório local com o remoto\n",
    "\n",
    "- Digite no terminal: git remote add origin git@github.com:seunomedeusuario/seu-repositorio.git"
   ]
  },
  {
   "cell_type": "markdown",
   "id": "5f41c94b",
   "metadata": {},
   "source": [
    "10. Envie as alterações no repositório local para o remoto\n",
    "\n",
    "- Digite o seguinte comando no terminal: git push -u origin main"
   ]
  },
  {
   "cell_type": "markdown",
   "id": "7fe5e58f",
   "metadata": {},
   "source": [
    "11. Utilize o comando git status\n",
    "\n",
    "- Digite no terminal o comando git status e observe a saída. O comando git status é uma ferramenta essencial para gerenciar alterações no controle de versão Git. Ele fornece uma visão geral do estado atual do repositório, indicando quais arquivos foram modificados, adicionados ou excluídos desde o último commit. Essa informação é crucial para compreender o progresso do desenvolvimento e tomar decisões de gerenciamento de alterações. A saída do comando git status geralmente contém três seções principais: Modificados: Lista os arquivos que foram modificados desde o último commit, mas ainda não foram adicionados à área de preparação (Stage). Adicionados: Indica os arquivos que foram adicionados à área de preparação, mas ainda não foram confirmados no histórico de commits. Modificados, adicionados ou excluídos: Exibe os arquivos que não foram rastreados pelo Git, ou seja, que não foram adicionados ao índice de modificações (Staging Area).\n",
    "\n",
    "- Além disso, o comando git status pode fornecer informações adicionais sobre as ramificações atuais, como a ramificação atual e as ramificações que estão à frente ou atrás da atual.\n",
    "\n",
    "- O comando git status é uma ferramenta indispensável para qualquer desenvolvedor que utiliza Git. Ele permite monitorar as alterações no repositório, identificar o estado dos arquivos e tomar decisões de gerenciamento de commits de forma eficiente."
   ]
  }
 ],
 "metadata": {
  "kernelspec": {
   "display_name": "Python 3",
   "language": "python",
   "name": "python3"
  },
  "language_info": {
   "name": "python",
   "version": "3.13.5"
  }
 },
 "nbformat": 4,
 "nbformat_minor": 5
}
