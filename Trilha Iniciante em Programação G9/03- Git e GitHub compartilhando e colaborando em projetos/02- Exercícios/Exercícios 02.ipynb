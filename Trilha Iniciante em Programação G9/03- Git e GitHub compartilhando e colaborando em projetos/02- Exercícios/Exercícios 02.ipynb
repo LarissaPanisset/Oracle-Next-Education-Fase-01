{
 "cells": [
  {
   "cell_type": "markdown",
   "id": "07c6e37e",
   "metadata": {},
   "source": [
    "**Resolução dos exercícios do curso de Git e GitHub**\n",
    "\n",
    "Manipular diferentes versões de um mesmo projeto pode se tornar desafiador. No entanto, o uso eficiente das ferramentas de versionamento elevam a qualidade do código e tornam o fluxo de trabalho muito mais fácil para toda a equipe. Para isso se tornar uma realidade dentro da rotina da pessoa desenvolvedora, é preciso seguir com a prática constante.\n",
    "\n",
    "Pensando nisso, desenvolvemos uma lista com exercícios não obrigatórios que abrangem desde a criação de um novo repositório remoto até a sincronização com alterações feitas por outros colaboradores. Tudo para que você desenvolva uma compreensão sólida do fluxo de trabalho do Git enquanto explora comandos essenciais."
   ]
  },
  {
   "cell_type": "markdown",
   "id": "30a1a109",
   "metadata": {},
   "source": [
    "1. Crie um novo repositório remoto no Github e insira um arquivo.\n",
    "\n",
    "- Faça login na sua conta do GitHub.\n",
    "\n",
    "- Clique no sinal de \"+\" no canto superior direito e escolha \"New repository\".\n",
    "\n",
    "- Siga as instruções para criar um novo repositório, dando um nome e uma descrição, se desejar.\n",
    "\n",
    "- No GitHub, vá para o repositório recém-criado: Clique em \"Add file\" e escolha a opção que preferir para adicionar um novo arquivo (pode ser um README.md para simplificar).\n"
   ]
  },
  {
   "cell_type": "markdown",
   "id": "750a3b9f",
   "metadata": {},
   "source": [
    "2. Faça um clone do seu repositório remoto para o local.\n",
    "\n",
    "- Abra o terminal no seu computador.\n",
    "\n",
    "- Navegue até o diretório onde deseja clonar o repositório.\n",
    "\n",
    "- Execute o comando git clone <url-do-seu-repositorio>."
   ]
  },
  {
   "cell_type": "markdown",
   "id": "44a4c382",
   "metadata": {},
   "source": [
    "3. Faça uma nova modificação diretamente no GitHub.\n",
    "\n",
    "- Acesse o seu repositório no GitHub.\n",
    "\n",
    "- Abra um arquivo existente ou crie um novo.\n",
    "\n",
    "- Faça as alterações desejadas diretamente no GitHub e salve.\n",
    "\n",
    "Dica: Você pode clicar no arquivo existente e selecionar a opção “Edit this file” (tradução livre para o português: Edite este arquivo)"
   ]
  },
  {
   "cell_type": "markdown",
   "id": "88372d3b",
   "metadata": {},
   "source": [
    "4. Atualize seu repositório local a partir do Remoto.\n",
    "\n",
    "- Navegue até o diretório do seu repositório local usando o terminal.\n",
    "\n",
    "- Execute o comando git pull origin main para trazer as últimas alterações do repositório remoto para o seu local."
   ]
  },
  {
   "cell_type": "markdown",
   "id": "d53a94a2",
   "metadata": {},
   "source": [
    "5. Utilize o comando git remote -v no terminal.\n",
    "\n",
    "- Liste repositórios remotos:\n",
    "\n",
    "- No terminal, navegue até o diretório do seu repositório local.\n",
    "\n",
    "- Execute git remote -v para listar as entradas remotas configuradas e suas URLs.\n",
    "\n",
    "O comando é usado para listar todas as entradas remotas configuradas no repositório Git atual. Cada entrada remota é representada por um nome e uma URL. O nome da entrada remota é usado para referenciar outros comandos git, como o git fetch e git push.\n",
    "\n",
    "Por exemplo, se o seu repositório Git tiver uma entrada remota chamada origin que aponta para o URL https://github.com/meu-usuário/meu-repositório.git, o comando git remote -v exibirá o seguinte:"
   ]
  },
  {
   "cell_type": "code",
   "execution_count": null,
   "id": "bef09ca2",
   "metadata": {},
   "outputs": [],
   "source": [
    "origin  https://github.com/meu-usuário/meu-repositório.git (fetch)\n",
    "origin  https://github.com/meu-usuário/meu-repositório.git (push)"
   ]
  },
  {
   "cell_type": "markdown",
   "id": "fbc52a2d",
   "metadata": {},
   "source": [
    "6. Confira as mudanças nos arquivos.\n",
    "\n",
    "- No diretório do seu repositório local, digite no terminal o comando git status para ver arquivos modificados"
   ]
  }
 ],
 "metadata": {
  "language_info": {
   "name": "python"
  }
 },
 "nbformat": 4,
 "nbformat_minor": 5
}
