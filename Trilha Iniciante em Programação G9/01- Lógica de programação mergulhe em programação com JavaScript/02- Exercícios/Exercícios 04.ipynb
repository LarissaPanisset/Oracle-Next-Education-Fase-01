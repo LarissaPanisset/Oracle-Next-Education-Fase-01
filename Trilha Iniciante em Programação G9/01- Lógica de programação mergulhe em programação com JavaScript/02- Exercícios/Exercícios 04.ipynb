{
 "cells": [
  {
   "cell_type": "markdown",
   "id": "1bfb03af",
   "metadata": {},
   "source": [
    "**Resolução dos exercícios do curso de lógica de programação**\n",
    "\n",
    "E vamos exercitar nosso conhecimento com mais uma lista de atividades (não obrigatório) para você praticar e reforçar ainda mais seu aprendizado!"
   ]
  },
  {
   "cell_type": "markdown",
   "id": "63dc1632",
   "metadata": {},
   "source": [
    "1. Crie um programa que utilize o console.log para exibir uma mensagem de boas-vindas."
   ]
  },
  {
   "cell_type": "code",
   "execution_count": null,
   "id": "7d1a96c2",
   "metadata": {},
   "outputs": [],
   "source": [
    "console.log('Bem-vindo')"
   ]
  },
  {
   "cell_type": "markdown",
   "id": "ed97e3c6",
   "metadata": {},
   "source": [
    "2. Crie uma variável chamada \"nome\" e atribua a ela o seu nome. Em seguida, utilize o console.log para exibir a mensagem \"Olá, [seu nome]!\" no console do navegador."
   ]
  },
  {
   "cell_type": "code",
   "execution_count": null,
   "id": "c9ac7bd5",
   "metadata": {},
   "outputs": [],
   "source": [
    "let nome = 'LARISSA'\n",
    "console.log(`Olá, ${nome}!`)"
   ]
  },
  {
   "cell_type": "markdown",
   "id": "53f5263b",
   "metadata": {},
   "source": [
    "3. Crie uma variável chamada \"nome\" e atribua a ela o seu nome. Em seguida, utilize o alert para exibir a mensagem \"Olá, [seu nome]!\" ."
   ]
  },
  {
   "cell_type": "code",
   "execution_count": null,
   "id": "4254ddbf",
   "metadata": {},
   "outputs": [],
   "source": [
    "let nome = 'LARISSA'\n",
    "alert(`Olá, ${nome}!`)"
   ]
  },
  {
   "cell_type": "markdown",
   "id": "7562dc0e",
   "metadata": {},
   "source": [
    "4. Utilize o prompt e faça a seguinte pergunta: Qual a linguagem de programação que você mais gosta?. Em seguida, armazene a resposta em uma variável e mostre no console do navegador."
   ]
  },
  {
   "cell_type": "code",
   "execution_count": null,
   "id": "604e015d",
   "metadata": {},
   "outputs": [],
   "source": [
    "let linguagem = prompt('Qual a linguagem de programação que você mais gosta?');\n",
    "   console.log(`A linguagem favoria do usuário é ${linguagem}`);"
   ]
  },
  {
   "cell_type": "markdown",
   "id": "cbce1a5f",
   "metadata": {},
   "source": [
    "5. Crie uma variável chamada \"valor1\" e outra chamada \"valor2\", atribuindo a elas valores numéricos de sua escolha. Em seguida, realize a soma desses dois valores e armazene o resultado em uma terceira variável chamada \"resultado\". Utilize o console.log para mostrar a mensagem \"A soma de [valor1] e [valor2] é igual a [resultado].\" no console."
   ]
  },
  {
   "cell_type": "code",
   "execution_count": null,
   "id": "0cebb193",
   "metadata": {},
   "outputs": [],
   "source": [
    "let valor1 = 66\n",
    "let valor2 = 23\n",
    "let resultado = valor1 + valor2\n",
    "    console.log(`A soma entre ${valor1} e ${valor2} é igual a ${resultado}.`)"
   ]
  },
  {
   "cell_type": "markdown",
   "id": "22c4f5f3",
   "metadata": {},
   "source": [
    "6. Crie uma variável chamada \"valor1\" e outra chamada \"valor2\", atribuindo a elas valores numéricos de sua escolha. Em seguida, realize a subtração desses dois valores e armazene o resultado em uma terceira variável chamada \"resultado\". Utilize o console.log para mostrar a mensagem \"A diferença entre [valor1] e [valor2] é igual a [resultado].\" no console."
   ]
  },
  {
   "cell_type": "code",
   "execution_count": null,
   "id": "c66058e4",
   "metadata": {},
   "outputs": [],
   "source": [
    "let valor1 = 8\n",
    "let valor2 = 6\n",
    "let resultado = valor1 - valor2\n",
    "    console.log(`A diferença entre ${valor1} e ${valor2} é igual a ${resultado}.`)"
   ]
  },
  {
   "cell_type": "markdown",
   "id": "4a3d9625",
   "metadata": {},
   "source": [
    "7. Peça ao usuário para inserir sua idade com prompt. Com base na idade inserida, utilize um if para verificar se a pessoa é maior ou menor de idade, exibindo uma mensagemapropriada no console."
   ]
  },
  {
   "cell_type": "code",
   "execution_count": null,
   "id": "b74fe895",
   "metadata": {},
   "outputs": [],
   "source": [
    "let idade = prompt('Qual é a sua idade?');\n",
    "\n",
    " if(idade >= 18){\n",
    "   console.log('Usuário é maior de idade')\n",
    " } else{\n",
    "    console.log('Usuário é menor de idade')\n",
    " }"
   ]
  },
  {
   "cell_type": "markdown",
   "id": "e39d6a0f",
   "metadata": {},
   "source": [
    "8. Crie uma variável \"numero\" e peça um valor com prompt verifique se é positivo, negativo ou zero. Use if-else para imprimir a respectiva mensagem."
   ]
  },
  {
   "cell_type": "code",
   "execution_count": null,
   "id": "4a165592",
   "metadata": {},
   "outputs": [],
   "source": [
    "let numero = prompt('Digite um número');\n",
    "\n",
    " if (numero == 0) {\n",
    "    console.log(`O número é ${numero}`);\n",
    " \n",
    " } else {\n",
    "    if (numero > 0) {\n",
    "        console.log('O número é positivo');\n",
    "    } else {\n",
    "        console.log('O número é negativo');\n",
    "    }\n",
    " }"
   ]
  },
  {
   "cell_type": "markdown",
   "id": "c5848028",
   "metadata": {},
   "source": [
    "9. Use um loop while para imprimir os números de 1 a 10 no console."
   ]
  },
  {
   "cell_type": "code",
   "execution_count": null,
   "id": "5a98d583",
   "metadata": {},
   "outputs": [],
   "source": [
    "let contador = 0;\n",
    "\n",
    "while (contador <= 10) {\n",
    "    console.log(contador);\n",
    "    contador++\n",
    "}"
   ]
  },
  {
   "cell_type": "markdown",
   "id": "4b096587",
   "metadata": {},
   "source": [
    "10. Crie uma variável \"nota\" e atribua um valor numérico a ela. Use if-else para determinar se a nota é maior ou igual a 7 e exiba \"Aprovado\" ou \"Reprovado\" no console."
   ]
  },
  {
   "cell_type": "code",
   "execution_count": null,
   "id": "ad3d709a",
   "metadata": {},
   "outputs": [],
   "source": [
    "let nota = 5;\n",
    "\n",
    "if (nota >= 7) {\n",
    "    console.log(`Sua nota foi ${nota}, aprovado!`)\n",
    "} else {\n",
    "    console.log(`Sua nota foi ${nota}, reprovado!`)\n",
    "}"
   ]
  },
  {
   "cell_type": "markdown",
   "id": "853e0c41",
   "metadata": {},
   "source": [
    "11. Use o Math.random para gerar qualquer número aleatório e exiba esse número no console."
   ]
  },
  {
   "cell_type": "code",
   "execution_count": null,
   "id": "313272e2",
   "metadata": {},
   "outputs": [],
   "source": [
    "let numero = Math.random();\n",
    "   console.log(`Número é ${numero}`);"
   ]
  },
  {
   "cell_type": "markdown",
   "id": "32eda09f",
   "metadata": {},
   "source": [
    "12. Use o Math.random para gerar um número inteiro entre 1 e 10 e exiba esse número no console."
   ]
  },
  {
   "cell_type": "code",
   "execution_count": null,
   "id": "709fa64f",
   "metadata": {},
   "outputs": [],
   "source": [
    "let numero = Math.floor(Math.random() * 10 + 1);\n",
    "   console.log(`Número é ${numero}`);"
   ]
  },
  {
   "cell_type": "markdown",
   "id": "0e9a86f4",
   "metadata": {},
   "source": [
    "13. Use o Math.random para gerar um número inteiro entre 1 e 1000 e exiba esse número no console."
   ]
  },
  {
   "cell_type": "code",
   "execution_count": null,
   "id": "d8f541c3",
   "metadata": {},
   "outputs": [],
   "source": [
    "let numero = Math.floor(Math.random() * 1000 + 1);\n",
    "   console.log(`Número é ${numero}`); "
   ]
  }
 ],
 "metadata": {
  "language_info": {
   "name": "python"
  }
 },
 "nbformat": 4,
 "nbformat_minor": 5
}
