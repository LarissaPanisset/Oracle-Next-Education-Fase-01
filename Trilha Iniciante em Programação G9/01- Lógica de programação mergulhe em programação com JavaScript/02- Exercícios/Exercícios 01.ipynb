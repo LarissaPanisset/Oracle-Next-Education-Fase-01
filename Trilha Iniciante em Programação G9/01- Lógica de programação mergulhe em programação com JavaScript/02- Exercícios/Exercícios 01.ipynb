{
 "cells": [
  {
   "cell_type": "markdown",
   "id": "fc1acb80",
   "metadata": {},
   "source": [
    "**Resolução dos exercícios do curso de lógica de programação**\n",
    "\n",
    "Praticar a lógica de programação, incluindo conceitos como variáveis, condicionais (if-else), loops (while) e interações com o usuário (alert, prompt), é essencial para sua carreira de desenvolvimento de software. Esses fundamentos fornecem a base para resolver problemas de forma estruturada, tomar decisões no código, criar iterações controladas e interagir eficazmente com os usuários.\n",
    "\n",
    "Compreender esses conceitos não apenas facilita o aprendizado de novas linguagens e tecnologias, mas também capacita você a criar soluções inovadoras, depurar eficientemente e manter a qualidade ao longo do ciclo de vida do software. Portanto, investir tempo nesses princípios desde cedo é fundamental para construir uma base sólida e bem-sucedida no campo da programação."
   ]
  },
  {
   "cell_type": "markdown",
   "id": "2c891a1b",
   "metadata": {},
   "source": [
    "1. Mostre um alerta com a mensagem \"Boas vindas ao nosso site!\"."
   ]
  },
  {
   "cell_type": "code",
   "execution_count": null,
   "id": "56a1024f",
   "metadata": {},
   "outputs": [],
   "source": [
    "alert('Boas vindas ao nosso site!');"
   ]
  },
  {
   "cell_type": "markdown",
   "id": "acb5d1bf",
   "metadata": {},
   "source": [
    "2. Declare uma variável chamada nome e atribua a ela o valor \"Lua\"."
   ]
  },
  {
   "cell_type": "code",
   "execution_count": null,
   "id": "1669ab7c",
   "metadata": {},
   "outputs": [],
   "source": [
    "let nome = \"Lua\";"
   ]
  },
  {
   "cell_type": "markdown",
   "id": "99b2fa4f",
   "metadata": {},
   "source": [
    "3. Crie uma variável chamada idade e atribua a ela o valor 25."
   ]
  },
  {
   "cell_type": "code",
   "execution_count": null,
   "id": "7dce79d5",
   "metadata": {},
   "outputs": [],
   "source": [
    "let idade = 25;"
   ]
  },
  {
   "cell_type": "markdown",
   "id": "aee56112",
   "metadata": {},
   "source": [
    "4. Defina uma variável numeroDeVendas e atribua a ela o valor 50."
   ]
  },
  {
   "cell_type": "code",
   "execution_count": null,
   "id": "58d7d8d9",
   "metadata": {},
   "outputs": [],
   "source": [
    "let numeroDeVendas = 50;"
   ]
  },
  {
   "cell_type": "markdown",
   "id": "1a8a6738",
   "metadata": {},
   "source": [
    "5. Defina uma variável saldoDisponivel e atribua a ela o valor 1000."
   ]
  },
  {
   "cell_type": "code",
   "execution_count": null,
   "id": "10c5fcf6",
   "metadata": {},
   "outputs": [],
   "source": [
    "let saldoDisponivel = 1000;"
   ]
  },
  {
   "cell_type": "markdown",
   "id": "ebfe387f",
   "metadata": {},
   "source": [
    "6. Exiba um alerta com o texto \"Erro! Preencha todos os campos\""
   ]
  },
  {
   "cell_type": "code",
   "execution_count": null,
   "id": "7ffe5caf",
   "metadata": {},
   "outputs": [],
   "source": [
    "alert('Erro! Preencha todos os campos');"
   ]
  },
  {
   "cell_type": "markdown",
   "id": "a38c3d71",
   "metadata": {},
   "source": [
    "7. Declare uma variável chamada mensagemDeErro e atribua a ela o valor \"Erro! Preencha todos os campos\" Agora exiba um alerta com o valor da variável mensagemDeErro."
   ]
  },
  {
   "cell_type": "code",
   "execution_count": null,
   "id": "8045217a",
   "metadata": {},
   "outputs": [],
   "source": [
    "let mensagemDeErro = \"Erro! Preencha todos os campos\";\n",
    "alert (mensagemDeErro);"
   ]
  },
  {
   "cell_type": "markdown",
   "id": "7d3f23ca",
   "metadata": {},
   "source": [
    "8. Para o próximo código, use um novo prompt para perguntar o nome do usuário e armazená-lo em uma variável, pode chamá-la de nome ou adicionar o que desejar ."
   ]
  },
  {
   "cell_type": "code",
   "execution_count": null,
   "id": "9bbec412",
   "metadata": {},
   "outputs": [],
   "source": [
    "let nome = prompt(\"Digite seu Nome\")"
   ]
  },
  {
   "cell_type": "markdown",
   "id": "701344a4",
   "metadata": {},
   "source": [
    "9. Peça ao usuário para digitar sua idade usando um prompt e armazene-a na variável idade."
   ]
  },
  {
   "cell_type": "code",
   "execution_count": null,
   "id": "a2cf0795",
   "metadata": {},
   "outputs": [],
   "source": [
    "let idade = prompt(\"Digite sua idade\")"
   ]
  },
  {
   "cell_type": "markdown",
   "id": "79ffb898",
   "metadata": {},
   "source": [
    "10. Agora, para validar a idade que capturamos no desafio 09, caso a idade seja maior ou igual que 18, exiba um alerta com a mensagem \"Pode tirar a habilitação!\"."
   ]
  },
  {
   "cell_type": "code",
   "execution_count": null,
   "id": "577b7409",
   "metadata": {},
   "outputs": [],
   "source": [
    "let idade = prompt(\"Digite sua idade\")\n",
    "if (idade >= 18) {\n",
    "  alert(\"Pode tirar a habilitação!\");\n",
    "} "
   ]
  }
 ],
 "metadata": {
  "language_info": {
   "name": "python"
  }
 },
 "nbformat": 4,
 "nbformat_minor": 5
}
