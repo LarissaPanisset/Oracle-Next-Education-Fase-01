{
 "cells": [
  {
   "cell_type": "markdown",
   "id": "b1d76013",
   "metadata": {},
   "source": [
    "**Resolução dos exercícios do curso de lógica de programação**\n",
    "\n",
    "Programação é prática! \n",
    "Criamos mais uma lista de atividades (não obrigatórias) para você exercitar e reforçar ainda mais seu aprendizado. Bora praticar?"
   ]
  },
  {
   "cell_type": "markdown",
   "id": "8944357c",
   "metadata": {
    "vscode": {
     "languageId": "javascript"
    }
   },
   "source": [
    "1. Pergunte ao usuário qual é o dia da semana. Se a resposta for \"Sábado\" ou \"Domingo\", mostre \"Bom fim de semana!\". Caso contrário, mostre \"Boa semana!\"."
   ]
  },
  {
   "cell_type": "code",
   "execution_count": null,
   "id": "dcc19baa",
   "metadata": {
    "vscode": {
     "languageId": "javascript"
    }
   },
   "outputs": [],
   "source": [
    "// Pergunte ao usuário qual é o dia da semana\n",
    "let dia = prompt('qual é o dia da semana?');\n",
    "console.log('Dia da Semana:', dia);\n",
    "\n",
    "//Se a resposta for \"Sábado\" ou \"Domingo\"\n",
    "if (dia == \"Sábado\"|| dia == \"Domingo\") {\n",
    "    alert('Bom fim de semana!');\n",
    "} else {\n",
    "    console.log('Dia da Semana:', dia);\n",
    "    alert('Boa semana!');//Caso contrário mostrar\n",
    "}"
   ]
  },
  {
   "cell_type": "markdown",
   "id": "5baaa419",
   "metadata": {},
   "source": [
    "2. Verifique se um número digitado pelo usuário é positivo ou negativo. Mostre um alerta informando."
   ]
  },
  {
   "cell_type": "code",
   "execution_count": null,
   "id": "edfad163",
   "metadata": {
    "vscode": {
     "languageId": "javascript"
    }
   },
   "outputs": [],
   "source": [
    "// usuário digita um número\n",
    "let número = prompt('digite um número');\n",
    "console.log('Número digitado:', número);\n",
    "\n",
    "//Se o número for negativo\n",
    "if (número < 0) {\n",
    "  console.log('Atenção número negativo:', número);\n",
    "    alert('Atenção número negativo!');\n",
    "} else {\n",
    "    alert('Número positivo!');  //Se o número for positivo\n",
    "}"
   ]
  },
  {
   "cell_type": "markdown",
   "id": "e488adce",
   "metadata": {},
   "source": [
    "3. Crie um sistema de pontuação para um jogo. Se a pontuação for maior ou igual a 100, mostre \"Parabéns, você venceu!\". Caso contrário, mostre \"Tente novamente para ganhar.\"."
   ]
  },
  {
   "cell_type": "code",
   "execution_count": null,
   "id": "fa8328b3",
   "metadata": {
    "vscode": {
     "languageId": "javascript"
    }
   },
   "outputs": [],
   "source": [
    "// pontuação no jogo\n",
    "let pontuação = 99;\n",
    "  alert('sua pontuação foi: '+ pontuação);\n",
    "  console.log('sua pontuação:', pontuação);\n",
    "\n",
    "//Se a pontuação for \n",
    "if (pontuação >= 100) {\n",
    "    alert('Parabéns, você venceu!');\n",
    "} else {\n",
    "  alert('Tente novamente para ganhar');\n",
    "  console.log('sua pontuação: ', número);\n",
    "}"
   ]
  },
  {
   "cell_type": "markdown",
   "id": "728f19e4",
   "metadata": {},
   "source": [
    "4. Crie uma mensagem que informa o usuário sobre o saldo da conta, usando uma template string para incluir o valor do saldo."
   ]
  },
  {
   "cell_type": "code",
   "execution_count": null,
   "id": "9e174f6f",
   "metadata": {
    "vscode": {
     "languageId": "javascript"
    }
   },
   "outputs": [],
   "source": [
    "saldo = 00;\n",
    "mensagem = `Olá, seu saldo é ${saldo}`;\n",
    "console.log(mensagem);"
   ]
  },
  {
   "cell_type": "markdown",
   "id": "079add8d",
   "metadata": {},
   "source": [
    "5. Peça ao usuário para inserir seu nome usando prompt. Em seguida, mostre um alerta de boas-vindas usando esse nome."
   ]
  },
  {
   "cell_type": "code",
   "execution_count": null,
   "id": "c0531066",
   "metadata": {
    "vscode": {
     "languageId": "javascript"
    }
   },
   "outputs": [],
   "source": [
    "// usuário inserir o nome\n",
    "let nome = prompt('inserir seu nome');\n",
    "console.log('nome usuário: ', nome);\n",
    "   alert('Seja bem-vindo: '+ nome);"
   ]
  }
 ],
 "metadata": {
  "kernelspec": {
   "display_name": "Python 3",
   "language": "python",
   "name": "python3"
  },
  "language_info": {
   "name": "python",
   "version": "3.13.5"
  }
 },
 "nbformat": 4,
 "nbformat_minor": 5
}
