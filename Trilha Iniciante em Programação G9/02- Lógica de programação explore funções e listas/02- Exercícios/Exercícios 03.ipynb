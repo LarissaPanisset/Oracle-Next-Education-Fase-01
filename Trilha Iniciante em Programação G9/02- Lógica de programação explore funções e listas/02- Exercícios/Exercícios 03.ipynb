{
 "cells": [
  {
   "cell_type": "markdown",
   "id": "d275f19f",
   "metadata": {},
   "source": [
    "**Resolução dos exercícios do curso de lógica de programação**\n",
    "\n",
    "Saber como usar funções é um dos conceitos fundamentais da programação e do desenvolvimento de software. As funções desempenham um papel crucial na organização, modularização e reutilização de código.\n",
    "\n",
    "Pensando nisso, criamos uma lista de atividades (não obrigatórias) focada em prática para melhorar ainda mais sua experiência de aprendizagem.\n",
    "\n",
    "Bora praticar então?"
   ]
  },
  {
   "cell_type": "markdown",
   "id": "2a2dfb64",
   "metadata": {},
   "source": [
    "1. Crie uma função que calcule o índice de massa corporal (IMC) de uma pessoa, a partir de sua altura, em metros, e peso, em quilogramas, que serão recebidos como parâmetro."
   ]
  },
  {
   "cell_type": "code",
   "execution_count": null,
   "id": "8aa6ce5b",
   "metadata": {},
   "outputs": [],
   "source": [
    "function calculaIMC(altura, peso){\n",
    "\n",
    "  let imc = peso / (alturaMetros * alturaMetros);\n",
    "}"
   ]
  },
  {
   "cell_type": "markdown",
   "id": "52c8ec09",
   "metadata": {},
   "source": [
    "2. Crie uma função que calcule o valor do fatorial de um número passado como parâmetro."
   ]
  },
  {
   "cell_type": "code",
   "execution_count": null,
   "id": "76d51ab1",
   "metadata": {},
   "outputs": [],
   "source": [
    "function calcularFatorial(numero) {\n",
    "  if (numero === 0 || numero === 1) {\n",
    "    return 1;\n",
    "  }\n",
    "\n",
    "  let fatorial = 1;\n",
    "  for (let i = 2; i <= numero; i++) {\n",
    "    fatorial *= i;\n",
    "  }\n",
    "\n",
    "  return fatorial;\n",
    "}\n",
    "\n",
    "// Exemplo de uso\n",
    "let numero = 5;\n",
    "let resultado = calcularFatorial(numero);\n",
    "console.log(`O fatorial de ${numero} é ${resultado}`);"
   ]
  },
  {
   "cell_type": "markdown",
   "id": "c41c3c9b",
   "metadata": {},
   "source": [
    "3. Crie uma função que converte um valor em dólar, passado como parâmetro, e retorna o valor equivalente em reais. Para isso, considere a cotação do dólar igual a R$4,80."
   ]
  },
  {
   "cell_type": "code",
   "execution_count": null,
   "id": "1a341cd6",
   "metadata": {},
   "outputs": [],
   "source": [
    "function converterDolarParaReal(valorEmDolar) {\n",
    "  let cotacaoDolar = 4.80;\n",
    "  let valorEmReais = valorEmDolar * cotacaoDolar;\n",
    "  return valorEmReais.toFixed(2);\n",
    "}\n",
    "\n",
    "// Exemplo de uso\n",
    "let valorEmDolar = 50;\n",
    "let valorEmReais = converterDolarParaReal(valorEmDolar);\n",
    "console.log(`${valorEmDolar} dólares equivalem a R$ ${valorEmReais}`);"
   ]
  },
  {
   "cell_type": "markdown",
   "id": "4bbc1546",
   "metadata": {},
   "source": [
    "4. Crie uma função que mostre na tela a área e o perímetro de uma sala retangular, utilizando altura e largura que serão dadas como parâmetro."
   ]
  },
  {
   "cell_type": "code",
   "execution_count": null,
   "id": "7d703b93",
   "metadata": {},
   "outputs": [],
   "source": [
    "function calcularAreaPerimetroSalaRetangular(altura, largura) {\n",
    "  let area = altura * largura;\n",
    "  let perimetro = 2 * (altura + largura);\n",
    "  \n",
    "  console.log(`Área da sala: ${area} metros quadrados`);\n",
    "  console.log(`Perímetro da sala: ${perimetro} metros`);\n",
    "}\n",
    "\n",
    "// Exemplo de uso\n",
    "let altura = 3; // em metros\n",
    "let largura = 5; // em metros\n",
    "calcularAreaPerimetroSalaRetangular(altura, largura);"
   ]
  },
  {
   "cell_type": "markdown",
   "id": "80ef727c",
   "metadata": {},
   "source": [
    "5. Crie uma função que mostre na tela a área e o perímetro de uma sala circular, utilizando seu raio que será fornecido como parâmetro. Considere Pi = 3,14."
   ]
  },
  {
   "cell_type": "code",
   "execution_count": null,
   "id": "845b2c90",
   "metadata": {},
   "outputs": [],
   "source": [
    "function calcularAreaPerimetroSalaCircular(raio) {\n",
    "  let area = Math.PI * raio * raio;\n",
    "  let perimetro = 2 * Math.PI * raio;\n",
    "  \n",
    "  console.log(`Área da sala circular: ${area.toFixed(2)} metros quadrados`);\n",
    "  console.log(`Perímetro da sala circular: ${perimetro.toFixed(2)} metros`);\n",
    "}\n",
    "\n",
    "// Exemplo de uso\n",
    "let raio = 4; // em metros\n",
    "calcularAreaPerimetroSalaCircular(raio);"
   ]
  },
  {
   "cell_type": "markdown",
   "id": "9643785b",
   "metadata": {},
   "source": [
    "6. Crie uma função que mostre na tela a tabuada de um número dado como parâmetro."
   ]
  },
  {
   "cell_type": "code",
   "execution_count": null,
   "id": "76a8cc8d",
   "metadata": {},
   "outputs": [],
   "source": [
    "function mostrarTabuada(numero) {\n",
    "  for (let i = 1; i <= 10; i++) {\n",
    "    let resultado = numero * i;\n",
    "    console.log(`${numero} x ${i} = ${resultado}`);\n",
    "  }\n",
    "}\n",
    "\n",
    "// Exemplo de uso\n",
    "let numero = 7;\n",
    "mostrarTabuada(numero);"
   ]
  }
 ],
 "metadata": {
  "language_info": {
   "name": "python"
  }
 },
 "nbformat": 4,
 "nbformat_minor": 5
}
