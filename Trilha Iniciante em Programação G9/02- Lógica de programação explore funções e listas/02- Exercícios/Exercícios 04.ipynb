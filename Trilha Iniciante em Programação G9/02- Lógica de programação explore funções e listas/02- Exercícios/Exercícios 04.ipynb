{
 "cells": [
  {
   "cell_type": "markdown",
   "id": "85fe5b6e",
   "metadata": {},
   "source": [
    "**Resolução dos exercícios do curso de lógica de programação**\n",
    "\n",
    "Saber como usar listas é um dos conceitos fundamentais da programação e do desenvolvimento de software.\n",
    "\n",
    "Pensando nisso, criamos uma lista de atividades (não obrigatórias) focada em prática para melhorar ainda mais sua experiência de aprendizagem.\n",
    "\n",
    "Bora praticar então?"
   ]
  },
  {
   "cell_type": "markdown",
   "id": "7f65b1e5",
   "metadata": {},
   "source": [
    "1. Crie uma lista vazia, com o nome listaGenerica."
   ]
  },
  {
   "cell_type": "code",
   "execution_count": null,
   "id": "d1269092",
   "metadata": {},
   "outputs": [],
   "source": [
    "let listaGenerica = [];"
   ]
  },
  {
   "cell_type": "markdown",
   "id": "0947e688",
   "metadata": {},
   "source": [
    "2. Crie uma lista de linguagens de programação chamada linguagensDeProgramacao com os seguintes elementos: 'JavaScript','C','C++', 'Kotlin' e 'Python'."
   ]
  },
  {
   "cell_type": "code",
   "execution_count": null,
   "id": "036fdea2",
   "metadata": {},
   "outputs": [],
   "source": [
    "let linguagensDeProgramacao = ['JavaScript','C','C++', 'Kotlin', 'Python'];"
   ]
  },
  {
   "cell_type": "markdown",
   "id": "960670e2",
   "metadata": {},
   "source": [
    "3. Adicione à lista linguagensDeProgramacao os seguintes elementos: 'Java', 'Ruby' e 'GoLang'."
   ]
  },
  {
   "cell_type": "code",
   "execution_count": null,
   "id": "2f9438ed",
   "metadata": {},
   "outputs": [],
   "source": [
    "linguagensDeProgramacao.push('Java', 'Ruby', 'GoLang');"
   ]
  },
  {
   "cell_type": "markdown",
   "id": "a2e4fbd6",
   "metadata": {},
   "source": [
    "4. Crie uma lista com 3 nomes e exiba no console apenas o primeiro elemento."
   ]
  },
  {
   "cell_type": "code",
   "execution_count": null,
   "id": "9cc1ccc2",
   "metadata": {},
   "outputs": [],
   "source": [
    "let nomes = ['larissa','valeria','alecio'];\n",
    "console.log(nomes[0]);"
   ]
  },
  {
   "cell_type": "markdown",
   "id": "85f99280",
   "metadata": {},
   "source": [
    "5. Crie uma lista com 3 nomes e exiba no console apenas o segundo elemento."
   ]
  },
  {
   "cell_type": "code",
   "execution_count": null,
   "id": "e3df6b58",
   "metadata": {},
   "outputs": [],
   "source": [
    "let nomes = ['larissa','valeria','alecio'];\n",
    "console.log(nomes[1]);"
   ]
  },
  {
   "cell_type": "markdown",
   "id": "4e82167c",
   "metadata": {},
   "source": [
    "6. Crie uma lista com 3 nomes e exiba no console apenas o último elemento."
   ]
  },
  {
   "cell_type": "code",
   "execution_count": null,
   "id": "8a45e7e3",
   "metadata": {},
   "outputs": [],
   "source": [
    "let nomes = ['larissa','valeria','alecio'];\n",
    "console.log(nomes[nomes.length - 1]);"
   ]
  }
 ],
 "metadata": {
  "language_info": {
   "name": "python"
  }
 },
 "nbformat": 4,
 "nbformat_minor": 5
}
