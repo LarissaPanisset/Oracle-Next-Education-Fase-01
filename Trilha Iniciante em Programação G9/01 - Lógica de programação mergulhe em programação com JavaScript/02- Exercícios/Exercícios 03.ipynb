{
 "cells": [
  {
   "cell_type": "markdown",
   "id": "8e54682c",
   "metadata": {},
   "source": [
    "**Resolução dos exercícios do curso de lógica de programação**\n",
    "\n",
    "Chegamos em mais uma lista de atividades (não obrigatórias) para você praticar e reforçar ainda mais seu aprendizado."
   ]
  },
  {
   "cell_type": "markdown",
   "id": "dabdd476",
   "metadata": {
    "vscode": {
     "languageId": "javascript"
    }
   },
   "source": [
    "1. Crie um contador que comece em 1 e vá até 10 usando um loop while. Mostre cada número."
   ]
  },
  {
   "cell_type": "code",
   "execution_count": null,
   "id": "c7f78538",
   "metadata": {
    "vscode": {
     "languageId": "javascript"
    }
   },
   "outputs": [],
   "source": [
    "alert(`Vamos contar juntos!`);\n",
    "let numeroFinal = 10;\n",
    "let contador = 1;\n",
    "\n",
    "while (contador != numeroFinal) {\n",
    "        alert(`${contador}...`);\n",
    "    contador++; \n",
    "    if (contador === numeroFinal) {\n",
    "        alert(`e ${contador}!`);\n",
    "    }    \n",
    "}"
   ]
  },
  {
   "cell_type": "code",
   "execution_count": null,
   "id": "53ef27ea",
   "metadata": {
    "vscode": {
     "languageId": "javascript"
    }
   },
   "outputs": [],
   "source": [
    "let contador = 1;\n",
    "while (contador <= 10) {\n",
    "    console.log(contador);\n",
    "    contador++;\n",
    "}"
   ]
  },
  {
   "cell_type": "markdown",
   "id": "d6eb4a6a",
   "metadata": {},
   "source": [
    "2. Crie um contador que começa em 10 e vá até 0 usando um loop while. Mostre cada número."
   ]
  },
  {
   "cell_type": "code",
   "execution_count": null,
   "id": "46bee1e1",
   "metadata": {
    "vscode": {
     "languageId": "javascript"
    }
   },
   "outputs": [],
   "source": [
    "alert(`Vamos contar juntos!`);\n",
    "let numeroFinal = 0;\n",
    "let contador = 10;\n",
    "\n",
    "while (contador != numeroFinal) {\n",
    "        alert(`${contador}...`);\n",
    "    contador--; \n",
    "    if (contador == numeroFinal) {\n",
    "        alert('e 0!');\n",
    "    }\n",
    "    \n",
    "}"
   ]
  },
  {
   "cell_type": "code",
   "execution_count": null,
   "id": "16b356ac",
   "metadata": {
    "vscode": {
     "languageId": "javascript"
    }
   },
   "outputs": [],
   "source": [
    "let contador = 10;\n",
    "while (contador >= 0) {\n",
    "    console.log(contador);\n",
    "    contador--;\n",
    "}"
   ]
  },
  {
   "cell_type": "markdown",
   "id": "fd426ca4",
   "metadata": {},
   "source": [
    "3. Crie um programa de contagem regressiva. Peça um número e conte deste número até 0, usando um loop while no console do navegador."
   ]
  },
  {
   "cell_type": "code",
   "execution_count": null,
   "id": "daef965f",
   "metadata": {
    "vscode": {
     "languageId": "javascript"
    }
   },
   "outputs": [],
   "source": [
    "let numero = prompt(`Escolha um número!`);\n",
    "let numeroFinal = 0;\n",
    "let contador = numero;\n",
    "\n",
    "while (contador!= numeroFinal) {\n",
    "        console.log(contador)   \n",
    "        alert(`${contador}...`);\n",
    "    contador--; \n",
    "    if (contador == numeroFinal) {\n",
    "        alert('e 0!');\n",
    "    }\n",
    "    \n",
    "}"
   ]
  },
  {
   "cell_type": "code",
   "execution_count": null,
   "id": "46c7d856",
   "metadata": {
    "vscode": {
     "languageId": "javascript"
    }
   },
   "outputs": [],
   "source": [
    "let numeroMaximo = prompt(\"Digite um número para a contagem regressiva:\");\n",
    "\n",
    "while (numeroMaximo >= 0) {\n",
    "    console.log(numeroMaximo);\n",
    "    numeroMaximo--;\n",
    "}"
   ]
  },
  {
   "cell_type": "markdown",
   "id": "c48eb005",
   "metadata": {},
   "source": [
    "4. Crie um programa de contagem progressiva. Peça um número e conte de 0 até esse número, usando um loop while no console do navegador."
   ]
  },
  {
   "cell_type": "code",
   "execution_count": null,
   "id": "a94a3358",
   "metadata": {
    "vscode": {
     "languageId": "javascript"
    }
   },
   "outputs": [],
   "source": [
    "let numero = prompt(`Escolha um número!`);\n",
    "let contador = 0;\n",
    "\n",
    "while (numero != contador) {\n",
    "        console.log(contador);\n",
    "        alert(`${contador}...`);\n",
    "    contador++; \n",
    "    if (numero == contador) {\n",
    "        alert(`e ${contador}!`);\n",
    "    }\n",
    "}"
   ]
  },
  {
   "cell_type": "code",
   "execution_count": null,
   "id": "a7d27559",
   "metadata": {
    "vscode": {
     "languageId": "javascript"
    }
   },
   "outputs": [],
   "source": [
    "let numeroMaximo = prompt(\"Digite um número para a contagem progregressiva:\");;\n",
    "let contador = 0;\n",
    "\n",
    "while (contador <= numeroMaximo) {\n",
    "    console.log(contador);\n",
    "    contador++\n",
    "}"
   ]
  }
 ],
 "metadata": {
  "kernelspec": {
   "display_name": "Python 3",
   "language": "python",
   "name": "python3"
  },
  "language_info": {
   "name": "python",
   "version": "3.13.5"
  }
 },
 "nbformat": 4,
 "nbformat_minor": 5
}
